{
 "cells": [
  {
   "cell_type": "markdown",
   "metadata": {},
   "source": [
    "***\n",
    "\n",
    "# Calcul Matriciel\n",
    "## TP1. Graphs encodings\n",
    "\n",
    "***\n",
    "***\n",
    "\n",
    "Basic and advanced encoding of graphs.\n",
    "***\n",
    "***\n",
    "A few ground rules for your report:\n",
    "* _your code must be clear, commented and use explicit variable names_\n",
    "* _every algorithm must be tested on a few examples which show the different use cases_\n",
    "* _markdown comments and examples must be provided, and the report should be self-contained_"
   ]
  },
  {
   "cell_type": "code",
   "execution_count": 3,
   "metadata": {},
   "outputs": [],
   "source": [
    "import networkx as nx\n",
    "import numpy as np\n",
    "import matplotlib.pyplot as plt\n",
    "%matplotlib inline\n",
    "#magic\n",
    "import warnings\n",
    "warnings.filterwarnings('ignore')"
   ]
  },
  {
   "cell_type": "markdown",
   "metadata": {},
   "source": [
    "\n",
    "**_In this pratical, we will only deal with non-oriented graphs. It can be however interesting to notice what would work or fail in the oriented setting_**\n",
    "\n",
    "\n",
    "The basic python's tool for matrices and linear algebra in numpy, we are going to use it a lot (but rarely in a complicated way)\n",
    "\n",
    "reference: https://numpy.org/doc/stable/reference/routines.array-creation.html\n",
    "\n",
    "***\n",
    "## <font color=blue>Some adjacency matrices examples</font> ##\n",
    "***\n",
    "\n",
    "**To Do:**\n",
    "\n",
    "**_question 1_**\n",
    "\n",
    "Create a numpy array `B` representing the adjacency matrix of the Bull graph (cf CM1)"
   ]
  },
  {
   "cell_type": "code",
   "execution_count": 4,
   "metadata": {},
   "outputs": [
    {
     "name": "stdout",
     "output_type": "stream",
     "text": [
      "[[0 1 0 0 0]\n",
      " [1 0 1 1 0]\n",
      " [0 1 0 1 0]\n",
      " [0 1 1 0 1]\n",
      " [0 0 0 0 1]]\n"
     ]
    }
   ],
   "source": [
    "B=np.array([[0,1,0,0,0],[1,0,1,1,0],[0,1,0,1,0],[0,1,1,0,1],[0,0,0,0,1]])\n",
    "print(B)"
   ]
  },
  {
   "cell_type": "markdown",
   "metadata": {},
   "source": [
    "\n",
    "**To Do:**\n",
    "\n",
    "**_question 2_**\n",
    "\n",
    "Create function  `complet(n)` returning the adjacency matrix of the complete graph on $n$ vertices.\n",
    "\n",
    "Create function  ` wheel(n)` returning the adjacency matrix of the wheel graph on $n+1$ vertices.\n"
   ]
  },
  {
   "cell_type": "code",
   "execution_count": 11,
   "metadata": {},
   "outputs": [
    {
     "name": "stdout",
     "output_type": "stream",
     "text": [
      "[[0. 1. 1. 1. 1.]\n",
      " [1. 0. 1. 0. 1.]\n",
      " [1. 1. 0. 1. 0.]\n",
      " [1. 0. 1. 0. 1.]\n",
      " [1. 1. 0. 1. 0.]]\n"
     ]
    }
   ],
   "source": [
    "def complete(n):\n",
    "    \"\"\"\n",
    "     Returns the adjacency matrix of a complete graph with n vertices\n",
    "\n",
    "    :param n: nomber of vertices\n",
    "    :type n:  int\n",
    "    :return: adjacency matrix of a complete graph with n vertices\n",
    "    :rtype: 2D numpy array of int\n",
    "    \"\"\"\n",
    "    A=np.zeros((n,n))\n",
    "    for i in range(n):\n",
    "        for j in range(n):\n",
    "            if i!=j:\n",
    "                A[i,j]=1  \n",
    "    \n",
    "    return A\n",
    "\n",
    "\n",
    "\n",
    "def wheel(n):\n",
    "    \"\"\"\n",
    "     Returns the adjacency matrix of a wheel graph with n+1 vertices\n",
    "\n",
    "    :param n: nomber of vertices\n",
    "    :type n:  int\n",
    "    :return: adjacency matrix of a wheel graph with n+1 vertices\n",
    "    :rtype: 2D numpy array of int\n",
    "    \"\"\"\n",
    "    A=np.zeros((n,n))\n",
    "    for i in range(n):\n",
    "        for j in range(n):\n",
    "            if i==j:\n",
    "                A[i,j]=0\n",
    "            elif i==0 or j==0:\n",
    "                A[i,j]=1\n",
    "            elif j==i-1 or j==i+1 or (i==1 and j==n-1) or (i==n-1 and j==1):\n",
    "                A[i,j]=1\n",
    "            \n",
    "            \n",
    "    return A\n",
    "\n",
    "\n",
    "print(wheel(5))"
   ]
  },
  {
   "cell_type": "markdown",
   "metadata": {},
   "source": [
    "\n",
    "***\n",
    "## <font color=blue>A python librairy for graphs: networkx</font> ##\n",
    "***\n",
    "\n",
    "\n",
    "In this course praticals, we will use networkx, mostly for drawings of graphs (+ comparing our methods)\n",
    "\n",
    "tutorial (drawing part): https://networkx.org/documentation/stable/tutorial.html\n",
    "\n",
    "\n",
    "doc (numpy part): https://networkx.org/documentation/stable/reference/convert.html#module-networkx.convert_matrix \n",
    "\n",
    "\n",
    "**To Do:**\n",
    "\n",
    "**_question 1_**\n",
    "\n",
    "Convert your graph `B` to a networkx graph and draw it (using the spring layout for instance)"
   ]
  },
  {
   "cell_type": "code",
   "execution_count": 12,
   "metadata": {},
   "outputs": [],
   "source": [
    "G=nx.Graph()\n",
    "for i in range(B.shape[0]):\n",
    "    G.add_node(i+1)\n"
   ]
  },
  {
   "cell_type": "code",
   "execution_count": null,
   "metadata": {},
   "outputs": [],
   "source": []
  },
  {
   "cell_type": "markdown",
   "metadata": {},
   "source": [
    "**To Do:**\n",
    "\n",
    "**_question 2_**\n",
    "\n",
    "Using networkx build-in functions (https://networkx.org/documentation/stable/reference/generators.html), write a function `Adjgrid(n)` which return the 2d $n\\times n$ grid graph\n",
    "\n",
    "Draw it"
   ]
  },
  {
   "cell_type": "code",
   "execution_count": 20,
   "metadata": {},
   "outputs": [
    {
     "data": {
      "image/png": "[encoded data removed]",
      "text/plain": [
       "<Figure size 640x480 with 1 Axes>"
      ]
     },
     "metadata": {},
     "output_type": "display_data"
    }
   ],
   "source": [
    "def Adjgrid(n):\n",
    "    return np.array([[]])\n",
    "\n",
    "G= nx.grid_2d_graph(8,8)\n",
    "\n",
    "\n",
    "nx.draw(G,pos=nx.spring_layout(G))"
   ]
  },
  {
   "cell_type": "markdown",
   "metadata": {},
   "source": [
    "***\n",
    "## <font color=blue>Classical encodings</font> ##\n",
    "***\n",
    "\n",
    "**To Do:**\n",
    "\n",
    "**_question 1_**\n",
    "\n",
    "_**using no loop**_, write down an algorithm mimicking nx.info and which takes as an input the adjacency matrix of $G$.\n",
    "\n",
    "The resulting text must include:\n",
    "* the number of vertices\n",
    "* the number of edges\n",
    "* the list of degree of each vertex\n",
    "\n",
    "Hint: use the algebraic properties of the matrix\n",
    "\n",
    "Give an estimate of the complexity of your algorithms"
   ]
  },
  {
   "cell_type": "code",
   "execution_count": 21,
   "metadata": {},
   "outputs": [
    {
     "ename": "AttributeError",
     "evalue": "module 'networkx' has no attribute 'info'",
     "output_type": "error",
     "traceback": [
      "\u001b[0;31m---------------------------------------------------------------------------\u001b[0m",
      "\u001b[0;31mAttributeError\u001b[0m                            Traceback (most recent call last)",
      "\u001b[1;32m/home/max/Cours/3A/graphes/MTHE114_TP1_23-24-student.ipynb Cell 13\u001b[0m line \u001b[0;36m3\n\u001b[1;32m      <a href='vscode-notebook-cell:/home/max/Cours/3A/graphes/MTHE114_TP1_23-24-student.ipynb#X15sZmlsZQ%3D%3D?line=0'>1</a>\u001b[0m \u001b[39m#reference from networkx\u001b[39;00m\n\u001b[1;32m      <a href='vscode-notebook-cell:/home/max/Cours/3A/graphes/MTHE114_TP1_23-24-student.ipynb#X15sZmlsZQ%3D%3D?line=1'>2</a>\u001b[0m G\u001b[39m=\u001b[39mnx\u001b[39m.\u001b[39mfrom_numpy_array(B)\n\u001b[0;32m----> <a href='vscode-notebook-cell:/home/max/Cours/3A/graphes/MTHE114_TP1_23-24-student.ipynb#X15sZmlsZQ%3D%3D?line=2'>3</a>\u001b[0m \u001b[39mprint\u001b[39m(nx\u001b[39m.\u001b[39;49minfo(G))\n",
      "\u001b[0;31mAttributeError\u001b[0m: module 'networkx' has no attribute 'info'"
     ]
    }
   ],
   "source": [
    "#reference from networkx\n",
    "G=nx.from_numpy_array(B)\n",
    "print(nx.info(G))"
   ]
  },
  {
   "cell_type": "code",
   "execution_count": 12,
   "metadata": {},
   "outputs": [
    {
     "data": {
      "text/plain": [
       "[(5,),\n",
       " array([[1.],\n",
       "        [3.],\n",
       "        [2.],\n",
       "        [3.],\n",
       "        [1.]]),\n",
       " 2.5]"
      ]
     },
     "execution_count": 12,
     "metadata": {},
     "output_type": "execute_result"
    }
   ],
   "source": [
    "def info(A):\n",
    "    \"\"\"\n",
    "    Return some informations about an adjacency matrix.\n",
    "\n",
    "    :param A: the adjacency matrix\n",
    "    :type A: a matrix (two dimensionnal array) containing only integers\n",
    "    :return: the number of vertices (int), the number of edges (int) and a list of degree (table of int)\n",
    "    :rtype: int, int, table of int\n",
    "    \"\"\"\n",
    "    vertNum=A.shape[0],\n",
    "    arcNum=np.dot(A,np.ones((A.shape[0],1)))\n",
    "    degList=arcNum.size/2\n",
    "    return [vertNum,arcNum,degList]\n",
    "    \n",
    "A=np.array([[0 , 1 , 0 , 0 , 0 ],[1 , 0 , 1 , 1 , 0 ],[0 , 1 , 0 , 1 , 0 ],[0 , 1 , 1 , 0 , 1 ],[0 , 0 , 0 , 1 , 0]])\n",
    "info(A)\n",
    "    "
   ]
  },
  {
   "cell_type": "markdown",
   "metadata": {},
   "source": [
    "*****\n",
    "**To Do:**\n",
    "\n",
    "\n",
    "**_question 2_**\n",
    "\n",
    "Create algorithms that convert addjacency matrix/to-from/incidence matrix.\n",
    "\n",
    "\n",
    "Test your algorithms on a few examples\n"
   ]
  },
  {
   "cell_type": "code",
   "execution_count": 7,
   "metadata": {},
   "outputs": [
    {
     "name": "stdout",
     "output_type": "stream",
     "text": [
      "number of vertices: 5\n",
      "number of edges: 5\n",
      "degree list: [1 3 2 3 1]\n"
     ]
    },
    {
     "data": {
      "text/plain": [
       "array([[1, 1, 0, 0, 0],\n",
       "       [0, 1, 1, 0, 0],\n",
       "       [0, 1, 0, 1, 0],\n",
       "       [0, 0, 1, 1, 0],\n",
       "       [0, 0, 0, 1, 1]])"
      ]
     },
     "execution_count": 7,
     "metadata": {},
     "output_type": "execute_result"
    }
   ],
   "source": [
    "def adjacencyToIncidence(A):\n",
    "    \"\"\"\n",
    "         Return the incidence matrix from an adjacency matrix.\n",
    " \n",
    "        :param A: the adjacency matrix\n",
    "        :type A: a matrix (two dimensionnal array) containing only integers\n",
    "        :return:  the incidence matrix\n",
    "        :rtype: a matrix (two dimensionnal array) containing only integers\n",
    "    \"\"\"    \n",
    "    incidence=np.zero_like()\n",
    "\n",
    "    return -1\n",
    "\n",
    "adjacencyToIncidence(A)"
   ]
  },
  {
   "cell_type": "code",
   "execution_count": null,
   "metadata": {},
   "outputs": [],
   "source": []
  },
  {
   "cell_type": "markdown",
   "metadata": {},
   "source": [
    "***\n",
    "## <font color=blue>Havel-Hakimi Algorithm and degree sequence</font> ##\n",
    "***\n",
    "\n",
    "\n",
    "The aim of this part is to give a complete characterisation of admissible degree sequences\n",
    "\n",
    "The _Havel-Hakimi Algorithm_  ([Havel, 1955] and [Hakimi, 1962]) works as follows:\n",
    "given $d=(d_0,d_1,\\dots,d_{n-1})$ a potential list of degree of a graph (sorted in decreasing order)\n",
    "* if $d$ contains only $0$ then $d$ is __graphic__\n",
    "* if $d$ has a negative value then $d$ is _not_ __graphic__\n",
    "* if $d_0$ is larger thant the length of $d$  then $d$ is _not_ __graphic__\n",
    "* otherwise, $d$ is graphic iff the list $d'=(d_1-1,d_2-1,d_3-1,\\dots,d_{d_0}-1,d_{d_0+1},d_{d_0+2},\\dots,d_{n-1})$ is graphical\n",
    "\n",
    "\n",
    "\n",
    "***\n",
    "***\n",
    "**To Do:**\n",
    "\n",
    "**_question 3_**\n",
    "\n",
    "Using Havel-Hakimi algorithm, determine weither the sequence $(5,2,1)$, $(3,3,2,1,1)$, and $(3,3,1,1)$ are graphic or not.\n",
    "***\n",
    "\n",
    "**To Do:**\n",
    "\n",
    "**_question 4_**\n",
    "\n",
    "Implement this algorithm and test it on a few examples\n",
    "\n",
    "***\n",
    "\n",
    "**To Do:**\n",
    "\n",
    "**_question 5_**\n",
    "\n",
    "Justify the algorithm by giving a construction showing that, if $(d_1-1,d_2-1,d_3-1,\\dots,d_{d_0}-1,d_{d_0+1},\\dots,d_{n-1})$ is graphic, then so is $d=(d_0,d_1,\\dots,d_{n-1})$."
   ]
  },
  {
   "cell_type": "code",
   "execution_count": 11,
   "metadata": {},
   "outputs": [
    {
     "name": "stdout",
     "output_type": "stream",
     "text": [
      "True\n",
      "False\n",
      "False\n"
     ]
    },
    {
     "data": {
      "text/plain": [
       "True"
      ]
     },
     "execution_count": 11,
     "metadata": {},
     "output_type": "execute_result"
    }
   ],
   "source": [
    "# Python implementation of the Havel-Hakimi Algorithm\n",
    "  \n",
    "\n",
    "def graphExists(a): \n",
    "    \"\"\"\n",
    "        Return true if a simple graph exist\n",
    " \n",
    "        :param a: a sequence\n",
    "        :type a:  an array of int\n",
    "        :return:  true if a simple graph exist, false otherwise\n",
    "        :rtype: a boolean\n",
    "    \"\"\"  \n",
    "    return True\n",
    "  \n",
    "# examples\n",
    "a = [3, 3, 2,2] \n",
    "print(graphExists(a))\n",
    "a = [3] \n",
    "print(graphExists(a))\n",
    "a = [5,4,1,1,1] \n",
    "print(graphExists(a))\n",
    "a = [4,4,4,4,4,4,4,4,4,4,4,4,4,4,4] \n",
    "graphExists(a)\n",
    "\n",
    "\n"
   ]
  },
  {
   "cell_type": "markdown",
   "metadata": {},
   "source": [
    "**Bonus:**\n",
    "\n",
    "Given a (graphic) sequence, and using Havel-Hakimi Algorithm as source of inspiration, write an algorithm creating a graph corresponding to this sequence. "
   ]
  }
 ],
 "metadata": {
  "kernelspec": {
   "display_name": "Python 3 (ipykernel)",
   "language": "python",
   "name": "python3"
  },
  "language_info": {
   "codemirror_mode": {
    "name": "ipython",
    "version": 3
   },
   "file_extension": ".py",
   "mimetype": "text/x-python",
   "name": "python",
   "nbconvert_exporter": "python",
   "pygments_lexer": "ipython3",
   "version": "3.10.12"
  }
 },
 "nbformat": 4,
 "nbformat_minor": 4
}
