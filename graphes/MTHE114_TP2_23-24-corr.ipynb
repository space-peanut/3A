{
 "cells": [
  {
   "cell_type": "markdown",
   "metadata": {},
   "source": [
    "***\n",
    "\n",
    "# Calcul Matriciel\n",
    "## TP2. Graphs isomorphism for dummies\n",
    "***\n",
    "***\n",
    "\n",
    "Basics on graph isomorphism and graph info via adjacency matrices\n",
    "***\n",
    "***\n",
    "A few ground rules for your report:\n",
    "* _your code must be clear, commented and use explicit variable names_\n",
    "* _every algorithm must be tested on a few examples which show the different use cases_\n",
    "* _markdown comments and examples must be provided, and the report should be self-contained_"
   ]
  },
  {
   "cell_type": "code",
   "execution_count": 1,
   "metadata": {},
   "outputs": [],
   "source": [
    "import networkx as nx\n",
    "import numpy as np\n",
    "import matplotlib.pyplot as plt\n",
    "%matplotlib inline\n",
    "#magic\n",
    "import warnings\n",
    "warnings.filterwarnings('ignore')"
   ]
  },
  {
   "cell_type": "markdown",
   "metadata": {},
   "source": [
    "**_In this pratical, we will only deal with non-oriented graphs. It can be however interesting to notice what would work or fail in the oriented setting_**\n",
    "\n",
    "\n",
    "The aim of this practical is to extract from theadjacency matrix basic infos (order,size,degrees,radius,diameter, ...).\n"
   ]
  },
  {
   "cell_type": "markdown",
   "metadata": {},
   "source": [
    "***\n",
    "## <font color=blue>Some adjacency matrices examples and function already defined</font> ##\n",
    "***\n",
    "\n",
    "**To Do:**\n",
    "\n",
    "**_question 1_**\n",
    "\n",
    "Create (again) a numpy array `B` representing the adjacency matrix of the Bull graph (cf CM1 and TP1).\n",
    "\n",
    "\n",
    "Copy the function  `complet(n)` returning the adjacency matrix of the complete graph on $n$ vertices and  ` wheel(n)` returning the adjacency matrix of the wheel graph on $n+1$ vertices from TP1 "
   ]
  },
  {
   "cell_type": "code",
   "execution_count": 15,
   "metadata": {},
   "outputs": [],
   "source": [
    "\n",
    "B=np.array(\n",
    "[[0,1,0,0,0], \n",
    "[1,0,1,1,0], \n",
    "[0,1,0,1,0], \n",
    "[0,1,1,0,1],\n",
    "[0,0,0,1,0]])\n",
    "\n"
   ]
  },
  {
   "cell_type": "code",
   "execution_count": 16,
   "metadata": {},
   "outputs": [
    {
     "data": {
      "text/plain": [
       "array([[0., 1., 1., 1., 1., 1.],\n",
       "       [1., 0., 1., 0., 0., 1.],\n",
       "       [1., 1., 0., 1., 0., 0.],\n",
       "       [1., 0., 1., 0., 1., 0.],\n",
       "       [1., 0., 0., 1., 0., 1.],\n",
       "       [1., 1., 0., 0., 1., 0.]])"
      ]
     },
     "execution_count": 16,
     "metadata": {},
     "output_type": "execute_result"
    }
   ],
   "source": [
    "def complete(n):\n",
    "    \"\"\"\n",
    "     Returns the adjacency matrix of a complete graph with n vertices\n",
    "\n",
    "    :param n: nomber of vertices\n",
    "    :type n:  int\n",
    "    :return: adjacency matrix of a complete graph with n vertices\n",
    "    :rtype: 2D numpy array of int\n",
    "    \"\"\"\n",
    "    A=np.ones((n,n))\n",
    "    for i in range(n):\n",
    "        A[i][i]=0\n",
    "    return A\n",
    "\n",
    "\n",
    "\n",
    "def wheel(n):\n",
    "    \"\"\"\n",
    "     Returns the adjacency matrix of a wheel graph with n+1 vertices\n",
    "\n",
    "    :param n: nomber of vertices\n",
    "    :type n:  int\n",
    "    :return: adjacency matrix of a wheel graph with n+1 vertices\n",
    "    :rtype: 2D numpy array of int\n",
    "    \"\"\"\n",
    "    A=np.zeros((n+1,n+1))\n",
    "    for i in range(1,n):\n",
    "        A[i][i+1]=1\n",
    "        A[i+1][i]=1\n",
    "        A[0][i]=1\n",
    "        A[i][0]=1\n",
    "    A[0][n]=1\n",
    "    A[n][0]=1\n",
    "    A[1][n]=1\n",
    "    A[n][1]=1\n",
    "    return A\n",
    "\n",
    "wheel(5)"
   ]
  },
  {
   "cell_type": "markdown",
   "metadata": {},
   "source": [
    "**_question 2_**\n",
    "\n",
    "Copy the function `̀Info` from TP1"
   ]
  },
  {
   "cell_type": "code",
   "execution_count": 17,
   "metadata": {},
   "outputs": [
    {
     "data": {
      "text/plain": [
       "[5, 5, array([1, 3, 2, 3, 1])]"
      ]
     },
     "execution_count": 17,
     "metadata": {},
     "output_type": "execute_result"
    }
   ],
   "source": [
    "def info(A):\n",
    "    \"\"\"\n",
    "    Return some informations about an adjacency matrix.\n",
    "\n",
    "    :param A: the adjacency matrix\n",
    "    :type A: a matrix (two dimensionnal array) containing only integers\n",
    "    :return: the number of vertices (int), the number of edges (int) and a list of degree (table of int)\n",
    "    :rtype: int, int, table of int\n",
    "    \"\"\"\n",
    "    n=A.shape[0]\n",
    "    #print(\"number of vertices:\",A.shape[0])\n",
    "    AA=np.dot(A,A)\n",
    "    #print(\"number of edges:\",int(np.trace(AA)/2))\n",
    "    d=A@np.ones(n,dtype=int)\n",
    "    #print(\"degree list:\",d)\n",
    "    return [n,int(np.trace(AA)/2),d]\n",
    "    \n",
    "A=np.array([[0 , 1 , 0 , 0 , 0 ],[1 , 0 , 1 , 1 , 0 ],[0 , 1 , 0 , 1 , 0 ],[0 , 1 , 1 , 0 , 1 ],[0 , 0 , 0 , 1 , 0]])\n",
    "info(A)\n",
    "    "
   ]
  },
  {
   "cell_type": "markdown",
   "metadata": {},
   "source": [
    "\n",
    "***\n",
    "## <font color=blue>Eccentricity, radius, diameter</font> ##\n",
    "***\n",
    "\n",
    "We recall that, if $A$ is the adjacency matrix of a graph $G$, then $A^\\ell_{i,j} = \\mathbf{e_j}^TA^\\ell\\mathbf{e_i}$ is number of path of length exactly $\\ell$ between $i$ and $j$.\n",
    "\n",
    "**To Do:**\n",
    "\n",
    "**_question 1_**\n",
    "\n",
    "How do you know if there is a path of length <u>a most $\\ell$</u> in G?\n",
    "\n",
    "Deduce a function computing the excentricity of a node $s \\in G$."
   ]
  },
  {
   "cell_type": "code",
   "execution_count": 18,
   "metadata": {},
   "outputs": [
    {
     "name": "stdout",
     "output_type": "stream",
     "text": [
      "[[1. 0. 0. 0. 0.]\n",
      " [0. 1. 0. 0. 0.]\n",
      " [0. 0. 1. 0. 0.]\n",
      " [0. 0. 0. 1. 0.]\n",
      " [0. 0. 0. 0. 1.]] 0\n",
      "[[1. 1. 0. 0. 0.]\n",
      " [1. 1. 1. 1. 0.]\n",
      " [0. 1. 1. 1. 0.]\n",
      " [0. 1. 1. 1. 1.]\n",
      " [0. 0. 0. 1. 1.]] 1\n",
      "[[2. 2. 1. 1. 0.]\n",
      " [2. 4. 3. 3. 1.]\n",
      " [1. 3. 3. 3. 1.]\n",
      " [1. 3. 3. 4. 2.]\n",
      " [0. 1. 1. 2. 2.]] 2\n",
      "[[ 4.  6.  4.  4.  1.]\n",
      " [ 6. 12. 10. 11.  4.]\n",
      " [ 4. 10.  9. 10.  4.]\n",
      " [ 4. 11. 10. 12.  6.]\n",
      " [ 1.  4.  4.  6.  4.]] 3\n"
     ]
    }
   ],
   "source": [
    "S=np.eye(5)\n",
    "for i in range(4):\n",
    "    print(S,i)\n",
    "    S=S+S@A"
   ]
  },
  {
   "cell_type": "code",
   "execution_count": 19,
   "metadata": {},
   "outputs": [
    {
     "name": "stdout",
     "output_type": "stream",
     "text": [
      "1\n",
      "2\n",
      "3\n",
      "excentricity(B) = [array([3, 2, 2, 2, 3]), 3, 2]\n"
     ]
    }
   ],
   "source": [
    "def excentricity(A):\n",
    "    \"\"\"\n",
    "    Return some informations about an adjacency matrix.\n",
    "\n",
    "    :param A: the adjacency matrix\n",
    "    :type A: a matrix (two dimensionnal array) containing only integers\n",
    "    :return: the list of eccentricities (list of int), the diameted (int) and the radius (int)\n",
    "    :rtype: array of int,int, int,\n",
    "    \"\"\"\n",
    "    n=A.shape[0]\n",
    "    exc=np.ones(n,int)*-1\n",
    "    l=0\n",
    "    P=np.eye(n) #A raised to the power l\n",
    "    S=np.eye(n) #cumulated sum_{i=0}^l A^i\n",
    "    while l<=n and (-1 in exc):\n",
    "        l=l+1\n",
    "        P=P@A\n",
    "        S=S+P\n",
    "        print(l)\n",
    "        for i in range(n):\n",
    "            if exc[i]==-1:\n",
    "                if not(0 in S[i]):\n",
    "                    exc[i]=l\n",
    "\n",
    "    if l==n:\n",
    "        for i in range(n):\n",
    "            if exc[i]==-1:\n",
    "                exc[i]=np.inf\n",
    "    return[exc,max(exc),min(exc)]\n",
    "\n",
    "print(f\"{excentricity(B) = }\") "
   ]
  },
  {
   "cell_type": "markdown",
   "metadata": {},
   "source": [
    "**_question 1 bis_**\n",
    "\n",
    "What happens if a graph is not connected? Fix this issue."
   ]
  },
  {
   "cell_type": "code",
   "execution_count": null,
   "metadata": {},
   "outputs": [],
   "source": []
  },
  {
   "cell_type": "markdown",
   "metadata": {},
   "source": [
    "**To Do:**\n",
    "In this question, we start by assuming that the graph is _**directed**_.\n",
    "\n",
    "\n",
    "**_question 2 preliminaries_**\n",
    "\n",
    "Create the adjacency matrix of the digraph of CM1 slide 11. \n",
    "\n",
    "**_question 2_**\n",
    "\n",
    "In this setting, write a function computing the size of the shortest cycle a node $s$ belongs to. "
   ]
  },
  {
   "cell_type": "code",
   "execution_count": 20,
   "metadata": {},
   "outputs": [
    {
     "name": "stdout",
     "output_type": "stream",
     "text": [
      "1\n",
      "2\n",
      "3\n"
     ]
    },
    {
     "data": {
      "text/plain": [
       "[array([2, 3, 3, 3, 1]), 1]"
      ]
     },
     "execution_count": 20,
     "metadata": {},
     "output_type": "execute_result"
    }
   ],
   "source": [
    "Gri=np.array([\n",
    "    [0,0,0,0,1],\n",
    "    [1,0,1,0,0],\n",
    "    [1,0,0,1,0],\n",
    "    [0,1,0,0,1],\n",
    "    [1,0,0,0,1]\n",
    "])\n",
    "\n",
    "\n",
    "def girth(A):\n",
    "    \"\"\"\n",
    "    Return some informations about an adjacency matrix.\n",
    "\n",
    "    :param A: the adjacency matrix\n",
    "    :type A: a matrix (two dimensionnal array) containing only integers\n",
    "    :return: the list of shortest cycles (list of int), the girth (int)\n",
    "    :rtype: array of int,int\n",
    "    \"\"\"\n",
    "    n=A.shape[0]\n",
    "    loop=np.ones(n,int)*-1\n",
    "    P=A\n",
    "    l=1\n",
    "    while l<=n and (-1 in loop):\n",
    "        print(l)\n",
    "        for i in range(n):\n",
    "            if loop[i]==-1:\n",
    "                if P[i,i]>0:\n",
    "                    loop[i]=l\n",
    "        l=l+1\n",
    "        P=P@A\n",
    "    return[loop,min(loop)]\n",
    "\n",
    "girth(Gri)"
   ]
  },
  {
   "cell_type": "markdown",
   "metadata": {},
   "source": [
    "**_question 2 bis_**\n",
    "\n",
    "What happens if a graph is not connected? Fix this issue."
   ]
  },
  {
   "cell_type": "code",
   "execution_count": null,
   "metadata": {},
   "outputs": [],
   "source": []
  },
  {
   "cell_type": "markdown",
   "metadata": {},
   "source": [
    "**question 3**\n",
    "Does your algorithm work for undirected graphs? Give a counterexample"
   ]
  },
  {
   "cell_type": "markdown",
   "metadata": {},
   "source": []
  },
  {
   "cell_type": "markdown",
   "metadata": {},
   "source": [
    "**question bonus**\n",
    "Show that we can compute the girth $\\pm 1$ of an undirected graph using this method. _hint: what happens for cycles of even/odd lengths?_"
   ]
  },
  {
   "cell_type": "markdown",
   "metadata": {},
   "source": [
    "__________________________\n",
    "\n",
    "\n",
    "***\n",
    "## <font color=blue>Computing isomorphisms</font> ##\n",
    "***\n",
    "In this part, we are going to compute ((very) naively) whether 2 graphs are isomorphic.\n",
    "\n",
    "\n",
    "In order to do so, we are going to apply the (extremely) naive algorithm\n",
    "\n",
    "\n",
    "<tt> areIsomorphicGraph(A,B)\n",
    "    \n",
    "for all permutations p\n",
    "    \n",
    "    if p(A) = B\n",
    "    \n",
    "       return True\n",
    "    \n",
    "return False\n",
    "</tt>\n",
    "\n",
    "\n",
    "It is easy to implement the permutation for a matrix: given a permutation $\\sigma \\in S_n, (P_\\sigma)_{i,j} = \\begin{cases}1 \\text{ if } \\sigma(j) = i \\\\ 0 \\text{ otherwise }\\end{cases} $.\n",
    "\n",
    "Then $\\sigma(A) = P.A.P^{-1}$\n",
    "\n",
    "\n",
    "see also https://en.wikipedia.org/wiki/Permutation_matrix\n",
    "\n",
    "**To Do:**\n",
    "\n",
    "**_question 1 preliminaries_**\n",
    "\n",
    "Get familiar with permutations and itertools"
   ]
  },
  {
   "cell_type": "code",
   "execution_count": 21,
   "metadata": {},
   "outputs": [
    {
     "data": {
      "text/plain": [
       "(0, 1, 2, 4, 3)"
      ]
     },
     "execution_count": 21,
     "metadata": {},
     "output_type": "execute_result"
    }
   ],
   "source": [
    "from itertools import permutations\n",
    "\n",
    "perm = list(permutations(np.arange(5)))\n",
    "\n",
    "perm[1]\n"
   ]
  },
  {
   "cell_type": "markdown",
   "metadata": {},
   "source": [
    "**_question 1_**\n",
    "\n",
    "\n",
    "Given a permutation $\\sigma \\in S_n$, compute the associated permutation matrix $P_\\sigma$"
   ]
  },
  {
   "cell_type": "code",
   "execution_count": 22,
   "metadata": {},
   "outputs": [
    {
     "data": {
      "text/plain": [
       "array([[1, 0, 0, 0, 0],\n",
       "       [0, 1, 0, 0, 0],\n",
       "       [0, 0, 1, 0, 0],\n",
       "       [0, 0, 0, 0, 1],\n",
       "       [0, 0, 0, 1, 0]])"
      ]
     },
     "execution_count": 22,
     "metadata": {},
     "output_type": "execute_result"
    }
   ],
   "source": [
    "def permMat(sigma):\n",
    "    n=len(list(sigma))\n",
    "    P=np.zeros((n,n),int)\n",
    "    for i in range(n):\n",
    "        for j in range(n):\n",
    "            P[i,j]=int(sigma[j]==i)\n",
    "            \n",
    "    return P\n",
    "\n",
    "permMat(perm[1])"
   ]
  },
  {
   "cell_type": "markdown",
   "metadata": {},
   "source": [
    "*****\n",
    "**To Do:**\n",
    "\n",
    "\n",
    "**_question 2 preliminaries_**\n",
    "\n",
    "Create a few examples of isomorphic and non isomorphic graphs (adjacency matrices).\n",
    "\n",
    "Share them with your classmates\n"
   ]
  },
  {
   "cell_type": "code",
   "execution_count": null,
   "metadata": {},
   "outputs": [],
   "source": []
  },
  {
   "cell_type": "markdown",
   "metadata": {},
   "source": [
    "*****\n",
    "**To Do:**\n",
    "\n",
    "\n",
    "**_question 2_**\n",
    "\n",
    "Write down the naive algorithm described above"
   ]
  },
  {
   "cell_type": "code",
   "execution_count": 23,
   "metadata": {},
   "outputs": [
    {
     "data": {
      "text/plain": [
       "(0, 1, 2, 3, 4)"
      ]
     },
     "execution_count": 23,
     "metadata": {},
     "output_type": "execute_result"
    }
   ],
   "source": [
    "def areIsomorphicGraph(A,B):\n",
    "    \"\"\"\n",
    "\n",
    "    \"\"\"    \n",
    "    n,m,d=info(A)\n",
    "    nn,mm,dd=info(B)\n",
    "    \n",
    "    if n!=nn or m!=mm or not(np.alltrue(np.sort(d)==np.sort(dd))):\n",
    "    \n",
    "        return False\n",
    "    \n",
    "    else:\n",
    "        perm = list(permutations(np.arange(n)))\n",
    "\n",
    "        for p in perm:\n",
    "            P=permMat(p)\n",
    "            if np.all((np.equal(B,P@A@np.linalg.inv(P)))):\n",
    "                return p\n",
    "        \n",
    "    return False\n",
    "\n",
    "areIsomorphicGraph(A,A)"
   ]
  },
  {
   "cell_type": "markdown",
   "metadata": {},
   "source": [
    "_**question 2 bis**_\n",
    "\n",
    "What is the complexity of this algorithm?"
   ]
  },
  {
   "cell_type": "markdown",
   "metadata": {},
   "source": []
  },
  {
   "cell_type": "markdown",
   "metadata": {},
   "source": [
    "_______________________\n",
    "\n",
    "\n",
    "\n",
    "***\n",
    "## <font color=blue>Generating and counting graphs</font> ##\n",
    "***\n",
    "\n",
    "The aim of this last part is to create tools to test our isomorphism algorithms.\n",
    "\n",
    "\n",
    "One possible way of generating all graphs of size $n$ is to add a vertex in all possible ways from all graphs of size $n-1$.\n",
    "\n",
    "**_question 1_**\n",
    "\n",
    "Write a function generating all (undirected, simple) graphs.\n",
    "\n",
    "\n",
    "Draw theses graphs for $n\\leq 4$\n",
    "\n",
    "_(hint): counting in binary might come handy_"
   ]
  },
  {
   "cell_type": "code",
   "execution_count": 24,
   "metadata": {},
   "outputs": [
    {
     "name": "stdout",
     "output_type": "stream",
     "text": [
      "[0 0 0 1]\n"
     ]
    },
    {
     "data": {
      "text/plain": [
       "[array([[0., 0., 0.],\n",
       "        [0., 0., 0.],\n",
       "        [0., 0., 0.]]),\n",
       " array([[0., 0., 1.],\n",
       "        [0., 0., 0.],\n",
       "        [1., 0., 0.]]),\n",
       " array([[0., 1., 0.],\n",
       "        [1., 0., 0.],\n",
       "        [0., 0., 0.]]),\n",
       " array([[0., 1., 1.],\n",
       "        [1., 0., 0.],\n",
       "        [1., 0., 0.]]),\n",
       " array([[0., 0., 0.],\n",
       "        [0., 0., 1.],\n",
       "        [0., 1., 0.]]),\n",
       " array([[0., 0., 1.],\n",
       "        [0., 0., 1.],\n",
       "        [1., 1., 0.]]),\n",
       " array([[0., 1., 0.],\n",
       "        [1., 0., 1.],\n",
       "        [0., 1., 0.]]),\n",
       " array([[0., 1., 1.],\n",
       "        [1., 0., 1.],\n",
       "        [1., 1., 0.]])]"
      ]
     },
     "execution_count": 24,
     "metadata": {},
     "output_type": "execute_result"
    }
   ],
   "source": [
    "# Convert an integer to a binary string using a custom function\n",
    "def int_to_binary(integer,length):\n",
    "    binary_array =[]\n",
    "    while(integer > 0):\n",
    "        digit = integer % 2\n",
    "        binary_array.append(digit)\n",
    "        integer = integer // 2\n",
    "    binary_array = binary_array[::-1]\n",
    "    while len(binary_array)<length:\n",
    "        binary_array.insert(0,0)\n",
    "    return np.array(binary_array)\n",
    "\n",
    "print(int_to_binary(1,4))\n",
    "\n",
    "def allGraphs(n):\n",
    "    \"\"\"\n",
    "    \n",
    "    \"\"\"\n",
    "    if n==1:\n",
    "        graphs=[np.array([[0]])]\n",
    "    else :\n",
    "        graphs=[]\n",
    "        graphs_s=allGraphs(n-1)\n",
    "        for graph in graphs_s : \n",
    "            for edges in range(2**(n-1)):\n",
    "                edges_list=int_to_binary(edges,n)\n",
    "                adj=np.zeros((n,n))\n",
    "                adj[1:,1:]=graph\n",
    "                adj[0]=edges_list\n",
    "                adj[:,0]=edges_list\n",
    "                graphs.append(adj)\n",
    "    return graphs\n",
    "\n",
    "\n",
    "\n",
    "allGraphs(3)"
   ]
  },
  {
   "cell_type": "code",
   "execution_count": 25,
   "metadata": {},
   "outputs": [
    {
     "name": "stdout",
     "output_type": "stream",
     "text": [
      "........"
     ]
    },
    {
     "data": {
      "image/png": "[encoded data removed]",
      "text/plain": [
       "<Figure size 1008x1008 with 8 Axes>"
      ]
     },
     "metadata": {},
     "output_type": "display_data"
    }
   ],
   "source": [
    "\n",
    "#adapted from https://matplotlib.org/matplotblog/posts/draw-all-graphs-of-n-nodes/\n",
    "def plot_graphs(graphs, figsize=14, dotsize=25):\n",
    "    \"\"\"Utility to plot a lot of graphs from an array of graphs. \n",
    "    Each graphs is a list of edges; each edge is a tuple.\"\"\"\n",
    "    n = len(graphs)\n",
    "    fig = plt.figure(figsize=(figsize,figsize))\n",
    "    fig.patch.set_facecolor('white') # To make copying possible (no transparent background)\n",
    "    k = int(np.sqrt(n))\n",
    "    for i in range(n):\n",
    "        plt.subplot(k+1,k+1,i+1)\n",
    "        nx.draw_kamada_kawai(nx.from_numpy_array(graphs[i]), node_size=dotsize)\n",
    "        print('.', end='')\n",
    "        \n",
    "        \n",
    "plot_graphs(allGraphs(3))"
   ]
  },
  {
   "cell_type": "markdown",
   "metadata": {},
   "source": [
    "**_question bonus_**\n",
    "\n",
    "Write a function generating all (undirected, simple) graphs by deleting (in a clever order) edges from the complete graph "
   ]
  },
  {
   "cell_type": "code",
   "execution_count": null,
   "metadata": {},
   "outputs": [],
   "source": []
  },
  {
   "cell_type": "markdown",
   "metadata": {},
   "source": [
    "**_question 2_**\n",
    "\n",
    "Write a (still naive) function generating all (undirected, simple) non-isomorphic graphs.\n",
    "\n",
    "_(hint) the number of non-isomorphic undirected simple graph is given by https://oeis.org/A000088. See also https://networkx.org/documentation/stable/reference/generated/networkx.generators.atlas.graph_atlas_g.html#networkx.generators.atlas.graph_atlas_g\n",
    "\n",
    "\n"
   ]
  },
  {
   "cell_type": "code",
   "execution_count": 26,
   "metadata": {},
   "outputs": [
    {
     "data": {
      "text/plain": [
       "4"
      ]
     },
     "execution_count": 26,
     "metadata": {},
     "output_type": "execute_result"
    }
   ],
   "source": [
    "def allNonIsoGraphs(n):\n",
    "    graphes=allGraphs(n)\n",
    "    \n",
    "    nonIso=[graphes[0]]\n",
    "    \n",
    "    for graphA in graphes:\n",
    "        flag=True\n",
    "        for graphB in nonIso:\n",
    "            if not(areIsomorphicGraph(graphA,graphB)==False):\n",
    "                flag=False\n",
    "        if flag:\n",
    "            nonIso.append(graphA)\n",
    "            \n",
    "    return nonIso\n",
    "\n",
    "\n",
    "len(allNonIsoGraphs(3))"
   ]
  },
  {
   "cell_type": "code",
   "execution_count": 29,
   "metadata": {},
   "outputs": [
    {
     "name": "stdout",
     "output_type": "stream",
     "text": [
      "..........."
     ]
    },
    {
     "data": {
      "image/png": "[encoded data removed]",
      "text/plain": [
       "<Figure size 1008x1008 with 11 Axes>"
      ]
     },
     "metadata": {},
     "output_type": "display_data"
    }
   ],
   "source": [
    "plot_graphs(allNonIsoGraphs((4)))"
   ]
  },
  {
   "cell_type": "markdown",
   "metadata": {},
   "source": [
    "**_question bonus_**\n",
    "Evaluate the performances of your algorithm.\n"
   ]
  },
  {
   "cell_type": "code",
   "execution_count": null,
   "metadata": {},
   "outputs": [],
   "source": []
  }
 ],
 "metadata": {
  "kernelspec": {
   "display_name": "Python 3",
   "language": "python",
   "name": "python3"
  },
  "language_info": {
   "codemirror_mode": {
    "name": "ipython",
    "version": 3
   },
   "file_extension": ".py",
   "mimetype": "text/x-python",
   "name": "python",
   "nbconvert_exporter": "python",
   "pygments_lexer": "ipython3",
   "version": "3.10.12"
  }
 },
 "nbformat": 4,
 "nbformat_minor": 4
}
