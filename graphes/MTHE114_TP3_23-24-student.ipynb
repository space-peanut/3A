{
 "cells": [
  {
   "cell_type": "markdown",
   "metadata": {},
   "source": [
    "# Calcul Matriciel\n",
    "\n",
    "# Le seigneur des (demi-)anneaux\n",
    "Le but du TP est d'interpréter la signification en termes de théorie des graphes de la multiplication matricielle dans différents **demi-anneaux**.\n",
    "\n",
    "Nous avons vu dans le cours que la multiplication matricielle est un bon outil en théorie des graphes, car les puissances de la matrice d'adjacence donnent beaucoup d'informations sur le graphe.\n",
    "\n",
    "L'objectif de ce TP est de généraliser cette approche en s'intéressant à la multiplication matricielle (de matrices d'adjacence) dans un contexte plus général.\n",
    "\n",
    "Dans le cadre classique, la matrice d'adjacence ne contient que des zéros et des uns (ainsi, ses puissances ne contiennent que des entiers), et la multiplication matricielle est basée sur le plus $+$ et la multiplication $\\times$ habituels. Nous allons utiliser des opérations plus exotiques, qui vont nous permettre de trouver de nouvelles informations sur le graphe.\n",
    "\n",
    "\n",
    "\n",
    "_Merci à Eddie Aamari pour la relecture et les commentaires constructifs_"
   ]
  },
  {
   "cell_type": "code",
   "execution_count": 3,
   "metadata": {},
   "outputs": [],
   "source": [
    "import networkx as nx\n",
    "import numpy as np\n",
    "import matplotlib.pyplot as plt\n",
    "%matplotlib inline\n",
    "import warnings\n",
    "warnings.filterwarnings('ignore')"
   ]
  },
  {
   "cell_type": "markdown",
   "metadata": {},
   "source": [
    "***\n",
    "# Demi-anneaux et multiplication matricielle généralisée #\n",
    "\n",
    "Un semi-anneau est un ensemble $R$ muni de deux opérations binaires $\\oplus$ et $\\otimes$, appelées addition et multiplication, telles que :\n",
    "\n",
    "* $(R, \\oplus)$ est un monoïde commutatif d'élément identité $\\mathbb{0}$ :\n",
    "\n",
    "     * $(a \\oplus b) \\oplus c = a \\oplus (b \\oplus c)$\n",
    "     * $\\mathbb{0} \\oplus a = a \\oplus \\mathbb{0} = a$\n",
    "     * $a \\oplus b = b \\oplus a$\n",
    "\n",
    "* $(R, \\otimes )$ est un monoïde d'élément identité $\\mathbb{1}$ :\n",
    "\n",
    "     * $(a\\otimes b)\\otimes c = a\\otimes(b\\otimes c)$\n",
    "     * $\\mathbb{1}\\otimes a = a\\otimes \\mathbb{1} = a$\n",
    "\n",
    "* La multiplication à gauche et à droite est distributive par rapport à l'addition :\n",
    "\n",
    "     * $a\\otimes(b \\oplus c) = (a\\otimes b) \\oplus (a\\otimes c)$\n",
    "     * $(a \\oplus b)\\otimes c = (a\\otimes c) \\oplus (b\\otimes c)$\n",
    "\n",
    "* La multiplication par $\\mathbb{0}$ est absorbante :\n",
    "     * $\\mathbb{0}\\otimes a = a\\otimes \\mathbb{0} = \\mathbb{0}$\n",
    "\n",
    "***\n",
    "\n",
    "Étant donné des matrices $A,B \\in \\mathcal{M}_{n,n}(R)$, on peut définir la multiplication matricielle dans $(R,\\oplus,\\otimes,\\mathbb{0},\\mathbb{ 1})$ par \n",
    "$$\n",
    "A \\otimes B = \\left(\\bigoplus_{k = 1}^n A_{i,k} \\otimes B_{k,j}\\right)_ {1 \\leq i,j \\leq n}\n",
    ".$$\n",
    "\n",
    "\n",
    "Les autres opérations sur les matrices (et les vecteurs) sont définies de façon similaire."
   ]
  },
  {
   "cell_type": "markdown",
   "metadata": {},
   "source": [
    "**_question 1_**\n",
    "\n",
    "Implémenter une multiplication matricielle générique qui utilise une addition et une multiplication génériques. Par la suite, nous l'utiliserons dans tous nos algorithmes.\n",
    "\n",
    "_Afin de simplifier les algorithmes, nous ne traiterons que des matrices carrées._"
   ]
  },
  {
   "cell_type": "code",
   "execution_count": 4,
   "metadata": {},
   "outputs": [],
   "source": [
    "def classicalMatMul(A,B):\n",
    "    \"\"\"\n",
    "     Calcule la multiplication classique de matrice\n",
    "     Équivalent à np.dot(A,B) ou A@B\n",
    "    \"\"\"  \n",
    "    n=A.shape[0]\n",
    "    M=np.empty((n,n))\n",
    "    for i in range(n):\n",
    "        for j in range(n):\n",
    "            M[i,j]=0\n",
    "            for k in range(n):\n",
    "                M[i,j]+=A[i,k]*B[k,j]\n",
    "\n",
    "    \n",
    "    return M    \n",
    "\n",
    "#TODO\n",
    "def semiringMul(add,mul,A,B,neutre_add):\n",
    "    \"\"\"\n",
    "     Calcule la multiplication de la matrice dans le demi-anneau où l'addition est add et\n",
    "     la multiplication mul, et où neutre_add est l'élément neutre de l'opération add\n",
    "    \"\"\"\n",
    "    n=A.shape[0]\n",
    "    M = np.full((n,n),1)\n",
    "    for i in range(n):\n",
    "        for j in range(n):\n",
    "            M[i,j]=neutre_add\n",
    "            for k in range(n):\n",
    "                M[i,j]=add(M[i,j],mul(A[i,k],B[k,j]))\n",
    "    \n",
    "\n",
    "    \n",
    "    return M"
   ]
  },
  {
   "cell_type": "markdown",
   "metadata": {},
   "source": [
    "**_question 2_**\n",
    "\n",
    "Vérifier que votre fonction calcule bien le produit matriciel classique, lorsque `add` et `mul` correspondent à l'addition et la multiplication classique"
   ]
  },
  {
   "cell_type": "code",
   "execution_count": 5,
   "metadata": {},
   "outputs": [
    {
     "name": "stdout",
     "output_type": "stream",
     "text": [
      "[[2 0 1 2 0]\n",
      " [0 3 0 0 2]\n",
      " [1 0 1 1 0]\n",
      " [2 0 1 2 0]\n",
      " [0 2 0 0 2]]\n",
      "[[2 0 1 2 0]\n",
      " [0 3 0 0 2]\n",
      " [1 0 1 1 0]\n",
      " [2 0 1 2 0]\n",
      " [0 2 0 0 2]]\n"
     ]
    }
   ],
   "source": [
    "def addplus(a,b):\n",
    "    return a+b\n",
    "                        \n",
    "def multimes(a,b):\n",
    "    return a*b\n",
    "                  \n",
    "A=np.array(\n",
    "[[0,1,0,0,1], \n",
    "[1,0,1,1,0], \n",
    "[0,1,0,0,0], \n",
    "[0,1,0,0,1],\n",
    "[1,0,0,1,0]])\n",
    "\n",
    "print(semiringMul(addplus,multimes,A,A,0))\n",
    "\n",
    "print(np.linalg.matrix_power(A, 2))"
   ]
  },
  {
   "cell_type": "markdown",
   "metadata": {},
   "source": [
    "***\n",
    "# <font color=blue> Demi-anneau tropical $(\\mathbb{R} \\cup \\{+\\infty\\},\\min,+,+\\infty,0)$ et distance de graphe</font> #\n",
    "\n",
    "**_question 1_**\n",
    "\n",
    "Vérifier (rapidement) que $(\\mathbb{R} \\cup \\{+\\infty\\},\\min,+,+\\infty,0)$ est un demi-anneau.\n",
    "\n",
    "_(Ce demi-anneau est appelé \"tropical\" parce qu'il a été développé par l'informaticien brésilien (d'origine hongroise) Imre Simon.)_"
   ]
  },
  {
   "cell_type": "markdown",
   "metadata": {},
   "source": [
    "\n",
    "Écrire une fonction calculant la multiplication matricielle dans ce demi-anneau."
   ]
  },
  {
   "cell_type": "code",
   "execution_count": 8,
   "metadata": {},
   "outputs": [],
   "source": [
    "def addtrop(a,b):\n",
    "    return 0\n",
    "                        \n",
    "def multrop(a,b):\n",
    "    return 1\n",
    "\n",
    "def tropMul(A,B):\n",
    "    \"\"\"\n",
    "     Calcule la multiplication de la matrice dans le demi-anneau tropical \n",
    "     (où l'addition est MIN et la multiplication +)\n",
    "\n",
    "     :param A,B : Matrices np float\n",
    "     :type A,B: Matrices np float (tableau numpy à deux dimensions)\n",
    "     :return : la multiplication de matrice dans le semianneauc tropical\n",
    "     :rtype : une matrice np float (tableau numpy à deux dimensions)\n",
    "     \"\"\"\n",
    "    return -1"
   ]
  },
  {
   "cell_type": "markdown",
   "metadata": {},
   "source": [
    "On va commencer avec un graphe connu : le graphe taureau.\n",
    "\n",
    "Dans le contexte tropical, on écrit les matrices d'adjacence comme suit :\n",
    "\n",
    "\\begin{align*}\n",
    "A_{i,j} = \n",
    "\\begin{cases}\n",
    "1 \\text{ s'il y a une arrête entre $i$ et $j$} \\\\\n",
    "+\\infty~ \\text{s'il n'y a pas d'arrête entre $i$ et $j$ dans $G$},\n",
    "\\end{cases}\n",
    "\\end{align*}\n",
    "\n",
    "\n",
    "**_question 2_**\n",
    "\n",
    "Justifier brievement cette convention.\n",
    "\n",
    "Que vaut la matrice identité dans le contexte tropical ?\n",
    "\n",
    "Vérifier l'identité (tropicale) $B\\times I_5 = I_5 \\times B = B$"
   ]
  },
  {
   "cell_type": "code",
   "execution_count": 11,
   "metadata": {},
   "outputs": [],
   "source": [
    "\n",
    "B=np.array(\n",
    "[[0,1,0,0,0], \n",
    "[1,0,1,1,0], \n",
    "[0,1,0,1,0], \n",
    "[0,1,1,0,1],\n",
    "[0,0,0,1,0]],float)\n",
    "\n",
    "Btrop = B.copy()\n",
    "Btrop[np.where(Btrop==0)] = np.inf\n"
   ]
  },
  {
   "cell_type": "code",
   "execution_count": null,
   "metadata": {},
   "outputs": [],
   "source": []
  },
  {
   "cell_type": "code",
   "execution_count": 12,
   "metadata": {},
   "outputs": [
    {
     "data": {
      "image/png": "[encoded data removed]",
      "text/plain": [
       "<Figure size 432x288 with 1 Axes>"
      ]
     },
     "metadata": {},
     "output_type": "display_data"
    }
   ],
   "source": [
    "\n",
    "# Remplacement des valeurs infinies par 0, car networkx code 0 si l'arrête n'est pas présente\n",
    "Bnetworkx = Btrop.copy()\n",
    "Bnetworkx[np.where(Bnetworkx==np.inf)] = 0\n",
    "# Création du graphe\n",
    "G = nx.from_numpy_array(Bnetworkx)\n",
    "\n",
    "# Pour faciliter l'affichage, création d'un attribut 'attraction' naturellement pris en compte dans nx.draw\n",
    "weights = nx.get_edge_attributes(G, 'weight')\n",
    "attraction = weights.copy()\n",
    "for key in attraction:\n",
    "    attraction[key] = weights[key]\n",
    "nx.set_edge_attributes(G, attraction, name='attraction')\n",
    "pos = nx.spring_layout(G,weight = 'attraction')\n",
    "\n",
    "# Tracé du graphe\n",
    "nx.draw_networkx_edge_labels(G, pos, edge_labels = weights)\n",
    "nx.draw(G, pos, with_labels = True)"
   ]
  },
  {
   "cell_type": "markdown",
   "metadata": {},
   "source": [
    "**_question 2_**\n",
    "\n",
    "Calculer $B^2,B^3,B^4$ dans le contexte tropical, ainsi que les sommes partielles (vous pouvez également tracer les graphes associés). Que constatez vous ?"
   ]
  },
  {
   "cell_type": "code",
   "execution_count": null,
   "metadata": {},
   "outputs": [],
   "source": []
  },
  {
   "cell_type": "markdown",
   "metadata": {},
   "source": [
    "**Généralisations au cas pondéré**"
   ]
  },
  {
   "cell_type": "markdown",
   "metadata": {},
   "source": [
    "Si $W = (W_{i,j})_{i,j}$ est la matrice d'adjacence du graphe pondéré $G$, c'est-à-dire\n",
    "\\begin{align*}\n",
    "W_{i,j} = \n",
    "\\begin{cases}\n",
    "\\text{la longueur de l'arrête entre $i$ et $j$} \\\\\n",
    "+\\infty~ \\text{s'il n'y a pas d'arrête entre $i$ et $j$ dans $G$},\n",
    "\\end{cases}\n",
    "\\end{align*}\n",
    "interpréter les coefficients de $W^{\\otimes k}$. On pourra s'aider du graphe donné par la matrice $W$ suivante."
   ]
  },
  {
   "cell_type": "markdown",
   "metadata": {},
   "source": []
  },
  {
   "cell_type": "markdown",
   "metadata": {},
   "source": [
    "L'algorithme de calcul de distances de graphe associé s'appelle [l'agorithme de Floyd-Warshall](https://fr.wikipedia.org/wiki/Algorithme_de_Floyd-Warshall).\n",
    "\n",
    "\n",
    "\n",
    "\n",
    "<div class= 'alert alert-block alert-info'>\n",
    "<tt>    \n",
    "  \n",
    "<b>\n",
    "Floyd–Warshall algorithm's pseudo-code (taken from wikipedia)    \n",
    "</b> \n",
    "\n",
    "    \n",
    "    \n",
    "      function FloydWarshall_shortestpath(W):\n",
    "    \n",
    "        D=W \n",
    "        for k:=1 to n\n",
    "\n",
    "            for i:=1 to n\n",
    "\n",
    "                for j:=1 to n\n",
    "\n",
    "\n",
    "                    D[i][j]:=min(D[i][j],D[i][k]+D[k][j])\n",
    "\n",
    "                end for\n",
    "\n",
    "            end for\n",
    "\n",
    "        end for\n",
    "\n",
    "     return D\n",
    "\n",
    "</tt>    \n",
    "\n",
    "\n",
    "</div>"
   ]
  },
  {
   "cell_type": "markdown",
   "metadata": {},
   "source": [
    "**_question 1_**\n",
    "\n",
    "Écrire une fonction `DistMatrice` prenant en entrée $W$ et calculant la matrice de distance de graphe associée."
   ]
  },
  {
   "cell_type": "code",
   "execution_count": 13,
   "metadata": {
    "scrolled": true
   },
   "outputs": [],
   "source": [
    "def DistMatrice(W):\n",
    "    C=ident_trop(n)\n",
    "\n",
    "    return C\n",
    "\n"
   ]
  },
  {
   "cell_type": "markdown",
   "metadata": {},
   "source": [
    "**_question 2_**\n",
    "\n",
    "Appliquer cet algorithme au cas pondéré."
   ]
  },
  {
   "cell_type": "code",
   "execution_count": null,
   "metadata": {},
   "outputs": [],
   "source": []
  },
  {
   "cell_type": "markdown",
   "metadata": {},
   "source": [
    "**_question 3_**\n",
    "\n",
    "Estimer la complexité de cet algorithme"
   ]
  },
  {
   "cell_type": "code",
   "execution_count": null,
   "metadata": {},
   "outputs": [],
   "source": []
  },
  {
   "cell_type": "markdown",
   "metadata": {},
   "source": [
    "**_question 4_**\n",
    "\n",
    "On rappelle les définitions :\n",
    "\n",
    "l'**excentricité** d'un sommet est la distance max entre ce sommet et n'importe quel autre sommet de ce graphe.\n",
    "\n",
    "$\\xi(i) =  \\max_j d_G(i,j) $\n",
    "\n",
    "\n",
    "le **_diamètre_** est le max des excentricités \n",
    "\n",
    "\n",
    "$\\delta = \\max_i \\max_j d_G(i,j) $\n",
    "\n",
    "le **_radius_**  est le min des excentricités \n",
    "\n",
    "$\\rho = \\min_i \\max_j d_G(i,j) $\n",
    "\n",
    "En utilisant la multiplication tropicale, écrire les fonctions calculant la suite des excentricités, le diamètre et le rayon dans un graphe (éventuellement pondéré)\n",
    "\n",
    "\n",
    "_attention : certaines valeurs peuvent être infinies! Elles seront représentées avec np.inf_"
   ]
  },
  {
   "cell_type": "code",
   "execution_count": null,
   "metadata": {},
   "outputs": [],
   "source": []
  },
  {
   "cell_type": "markdown",
   "metadata": {},
   "source": [
    "***\n",
    "# <font color=blue>Demi-anneau booléen $(\\{0,1\\},\\mathrm{OR},\\mathrm{AND},0,1)$ et existence de chemins</font> #\n",
    "\n",
    "Dans cette partie, nous utilisons le demi-anneau booléen."
   ]
  },
  {
   "cell_type": "markdown",
   "metadata": {},
   "source": [
    "**_question 0_**\n",
    "\n",
    "Vérifier que $(\\{0,1\\},\\mathrm{OR},\\mathrm{AND},0,1)$ est un demi-anneau"
   ]
  },
  {
   "cell_type": "markdown",
   "metadata": {},
   "source": [
    "**_question 1_**\n",
    "\n",
    "Écrire une fonction qui calcule la multiplication matricielle dans ce demi-anneau."
   ]
  },
  {
   "cell_type": "code",
   "execution_count": 6,
   "metadata": {},
   "outputs": [],
   "source": [
    "def addbool(a,b):\n",
    "    return a or b\n",
    "                        \n",
    "def mulbool(a,b):\n",
    "    return a and b\n",
    "\n",
    "def boolMul(A,B):\n",
    "    \"\"\"\n",
    "     Calcule la multiplication de la matrice dans le demi-anneau booléen \n",
    "     (où l'addition est OU et la multiplication ET)\n",
    "\n",
    "     :param A,B : Matrices booléennes\n",
    "     :type A,B: Matrices booléennes (tableau numpy à deux dimensions)\n",
    "     :return : la multiplication de matrice dans le booléen\n",
    "     :rtype : une matrice booléenne (tableau numpy à deux dimensions)\n",
    "     \"\"\"\n",
    "    return semiringMul(addbool,mulbool,A,B,0)"
   ]
  },
  {
   "cell_type": "markdown",
   "metadata": {},
   "source": [
    "Si $A = (A_{i,j})_{i,j}$ est la matrice d'adjacence du graphe non-pondéré $G$, c'est-à-dire\n",
    "\\begin{align*}\n",
    "A_{i,j} = \n",
    "\\begin{cases}\n",
    "True & \\text{s'il y a une arrête entre $i$ et $j$ dans $G$} \\\\\n",
    "False & \\text{s'il n'y a pas d'arrête entre $i$ et $j$ dans $G$},\n",
    "\\end{cases}\n",
    "\\end{align*}\n",
    "\n",
    "On représentera comme d'habitude $False = 0$ et $True = 1$\n",
    "\n",
    "\n",
    "interpréter les coefficients de $A^{\\otimes k}$."
   ]
  },
  {
   "cell_type": "markdown",
   "metadata": {},
   "source": []
  },
  {
   "cell_type": "code",
   "execution_count": 7,
   "metadata": {},
   "outputs": [],
   "source": [
    "C=np.array([[0,1,0,0,1], \n",
    "[1,0,1,1,0], \n",
    "[0,1,0,0,0], \n",
    "[0,1,0,0,1],\n",
    "[1,0,0,1,0]])"
   ]
  },
  {
   "cell_type": "code",
   "execution_count": null,
   "metadata": {},
   "outputs": [],
   "source": []
  },
  {
   "cell_type": "code",
   "execution_count": 8,
   "metadata": {},
   "outputs": [
    {
     "data": {
      "image/png": "[encoded data removed]",
      "text/plain": [
       "<Figure size 640x480 with 1 Axes>"
      ]
     },
     "metadata": {},
     "output_type": "display_data"
    }
   ],
   "source": [
    "G = nx.from_numpy_array(A)\n",
    "nx.draw(G, with_labels=True)"
   ]
  },
  {
   "cell_type": "markdown",
   "metadata": {},
   "source": [
    "**_question 1_**\n",
    "\n",
    "En utilisant la multiplication matricielle booléenne, ecrire une fonction calculant la matrice de distance de graphe _non pondéré_\n",
    "\n",
    "_Attention : certaines valeurs peuvent être infinies ! L'infini sera représenté par `np.inf`_"
   ]
  },
  {
   "cell_type": "code",
   "execution_count": 12,
   "metadata": {
    "scrolled": true
   },
   "outputs": [
    {
     "ename": "ValueError",
     "evalue": "The truth value of an array with more than one element is ambiguous. Use a.any() or a.all()",
     "output_type": "error",
     "traceback": [
      "\u001b[0;31m---------------------------------------------------------------------------\u001b[0m",
      "\u001b[0;31mValueError\u001b[0m                                Traceback (most recent call last)",
      "\u001b[1;32m/home/max/Cours/3A/graphes/MTHE114_TP3_23-24-student.ipynb Cell 39\u001b[0m line \u001b[0;36m2\n\u001b[1;32m     <a href='vscode-notebook-cell:/home/max/Cours/3A/graphes/MTHE114_TP3_23-24-student.ipynb#X53sZmlsZQ%3D%3D?line=15'>16</a>\u001b[0m         D\u001b[39m=\u001b[39maddbool(D,P)\n\u001b[1;32m     <a href='vscode-notebook-cell:/home/max/Cours/3A/graphes/MTHE114_TP3_23-24-student.ipynb#X53sZmlsZQ%3D%3D?line=17'>18</a>\u001b[0m     \u001b[39mreturn\u001b[39;00m D\n\u001b[0;32m---> <a href='vscode-notebook-cell:/home/max/Cours/3A/graphes/MTHE114_TP3_23-24-student.ipynb#X53sZmlsZQ%3D%3D?line=19'>20</a>\u001b[0m \u001b[39mprint\u001b[39m(dist(A))\n",
      "\u001b[1;32m/home/max/Cours/3A/graphes/MTHE114_TP3_23-24-student.ipynb Cell 39\u001b[0m line \u001b[0;36m1\n\u001b[1;32m     <a href='vscode-notebook-cell:/home/max/Cours/3A/graphes/MTHE114_TP3_23-24-student.ipynb#X53sZmlsZQ%3D%3D?line=13'>14</a>\u001b[0m \u001b[39mfor\u001b[39;00m i \u001b[39min\u001b[39;00m \u001b[39mrange\u001b[39m(n\u001b[39m-\u001b[39m\u001b[39m1\u001b[39m):\n\u001b[1;32m     <a href='vscode-notebook-cell:/home/max/Cours/3A/graphes/MTHE114_TP3_23-24-student.ipynb#X53sZmlsZQ%3D%3D?line=14'>15</a>\u001b[0m     P\u001b[39m=\u001b[39mboolMul(P,A)\n\u001b[0;32m---> <a href='vscode-notebook-cell:/home/max/Cours/3A/graphes/MTHE114_TP3_23-24-student.ipynb#X53sZmlsZQ%3D%3D?line=15'>16</a>\u001b[0m     D\u001b[39m=\u001b[39maddbool(D,P)\n\u001b[1;32m     <a href='vscode-notebook-cell:/home/max/Cours/3A/graphes/MTHE114_TP3_23-24-student.ipynb#X53sZmlsZQ%3D%3D?line=17'>18</a>\u001b[0m \u001b[39mreturn\u001b[39;00m D\n",
      "\u001b[1;32m/home/max/Cours/3A/graphes/MTHE114_TP3_23-24-student.ipynb Cell 39\u001b[0m line \u001b[0;36m2\n\u001b[1;32m      <a href='vscode-notebook-cell:/home/max/Cours/3A/graphes/MTHE114_TP3_23-24-student.ipynb#X53sZmlsZQ%3D%3D?line=0'>1</a>\u001b[0m \u001b[39mdef\u001b[39;00m \u001b[39maddbool\u001b[39m(a,b):\n\u001b[0;32m----> <a href='vscode-notebook-cell:/home/max/Cours/3A/graphes/MTHE114_TP3_23-24-student.ipynb#X53sZmlsZQ%3D%3D?line=1'>2</a>\u001b[0m     \u001b[39mreturn\u001b[39;00m a \u001b[39mor\u001b[39;00m b\n",
      "\u001b[0;31mValueError\u001b[0m: The truth value of an array with more than one element is ambiguous. Use a.any() or a.all()"
     ]
    }
   ],
   "source": [
    "def dist(A):\n",
    "    \"\"\"\n",
    "     Calcule la distance entre i et j dans le graphe dont la matrice d'adjacence est A\n",
    "     :param A: matrice d'adjacence (tableau numérique à deux dimensions)\n",
    "     :type A: matrice (tableau numérique à deux dimensions) avec seulement 0 et 1\n",
    "     :param i,j : sommets\n",
    "     :type i,j : entiers\n",
    "     :return : k, d(i,j)\n",
    "     :rtype : entier ou np.inf\n",
    "     \"\"\"   \n",
    "    n=A.shape[0]\n",
    "    D = np.identity(n)\n",
    "    P=np.identity(n)\n",
    "    for i in range(n-1):\n",
    "        P=boolMul(P,A)\n",
    "        D=addbool(D,P)\n",
    "    \n",
    "    return D\n",
    "    \n",
    "print(dist(A))"
   ]
  },
  {
   "cell_type": "markdown",
   "metadata": {},
   "source": [
    "**_question 2_** \n",
    "\n",
    "\n",
    "Écrire un algorithme calculant la _(cloture transitive)[https://en.wikipedia.org/wiki/Transitive_closure]_ d'un graphe (non-orienté)"
   ]
  },
  {
   "cell_type": "code",
   "execution_count": null,
   "metadata": {},
   "outputs": [],
   "source": []
  },
  {
   "cell_type": "markdown",
   "metadata": {},
   "source": [
    "**_question 3_** \n",
    "\n",
    "En déduire un algorithme calculant les composantes connexes d'un graphe\n",
    "Écrire un algorithme calculant la _cloture transitive_ d'un graphe (non-orienté)"
   ]
  },
  {
   "cell_type": "markdown",
   "metadata": {},
   "source": [
    "***\n",
    "# <font color=blue>L'anneau classique $(\\mathbb{N},+,\\times,0,1)$ et multigraphes </font> #\n",
    "***\n",
    "\n",
    "Cet anneau permet de travailler avec des multi-graphes : $A_{i,j} \\in \\mathbb{N}$ encode le nombre d'arrêtes entre $i$ et $j$. Cette notion généralise donc les matrices d'adjacences classiques où $A_{i,j} \\in \\{0,1\\}$.\n",
    "\n",
    "Dans ce demi-anneau, $A_{i,j}^k$ compte le nombre de chemins de longueur exactement $k-1$ reliant $i$ à $j$ avec multiplicité."
   ]
  },
  {
   "cell_type": "markdown",
   "metadata": {
    "tags": []
   },
   "source": [
    "Écrire une fonction calculant le nombre total de chemins de longueurs au plus $k$ entre tous les noeuds du graphe."
   ]
  },
  {
   "cell_type": "code",
   "execution_count": 14,
   "metadata": {},
   "outputs": [],
   "source": [
    "def path_total(A,k_max):\n",
    "    n = A.shape[0]\n",
    "    T = np.zeros((n,n))\n",
    "\n",
    "    return T"
   ]
  },
  {
   "cell_type": "code",
   "execution_count": 15,
   "metadata": {},
   "outputs": [
    {
     "name": "stdout",
     "output_type": "stream",
     "text": [
      "[[0. 0. 0. 0. 0.]\n",
      " [0. 0. 0. 0. 0.]\n",
      " [0. 0. 0. 0. 0.]\n",
      " [0. 0. 0. 0. 0.]\n",
      " [0. 0. 0. 0. 0.]]\n"
     ]
    },
    {
     "data": {
      "image/png": "[encoded data removed]",
      "text/plain": [
       "<Figure size 432x288 with 1 Axes>"
      ]
     },
     "metadata": {},
     "output_type": "display_data"
    }
   ],
   "source": [
    "B=np.array(\n",
    "[[0,1,0,0,0], \n",
    "[1,0,1,1,0], \n",
    "[0,1,0,1,0], \n",
    "[0,1,1,0,1],\n",
    "[0,0,0,1,0]])\n",
    "\n",
    "nx.draw(nx.from_numpy_array(B), with_labels = True)\n",
    "\n",
    "print(path_total(B,3))"
   ]
  },
  {
   "cell_type": "markdown",
   "metadata": {},
   "source": [
    "***\n",
    "# <font color=blue> Demi-anneau bottleneck $(\\mathbb{R}_+ \\cup \\{+\\infty\\},\\max,\\min,0,+\\infty)$ et capacité </font> #\n",
    "***\n",
    "\n",
    "Vérifier que $(\\mathbb{R}_+ \\cup \\{+\\infty\\},\\max,\\min,0,+\\infty)$ est un demi-anneau.\n",
    "\n",
    "Dans ce demi-anneau, la puissance des matrices possède l'interprétation capacitique suivante :\n",
    "\n",
    "Suposons que $W_{i,j}$ correspond au flux (ou à la capacité) admissible par l'arrête $(i,j)$ dans le graphe $G$, de sorte que $W_{i,j} = 0$ correspond à l'absence d'arrête, c'est-à-dire à un flux admissible nul. Pour tout chemin sur $G$, on définit sa capacité comme le minimum des capacité des arrêtes qui le composent.\n",
    "Alors $W^{\\otimes k}_{i,j}$ correspond à la capacité maximale d'un chemin entre $i$ et $j$ passant par au plus $k-1$ noeuds intermédiaires.\n",
    "\n",
    "Exemples :\n",
    "\n",
    "- Pour un réseau routier, $W_{i,j}$ peut modéliser le poids maximum que la route $i \\to j$ supporte (ex. 3,5T, 12T, etc.), alors $W^{\\otimes k}_{i,j}$ correspond à la plus faible capacité par laquelle on doit passer pour relier $i$ à $j$ en au plus $k-1$ étapes.\n",
    "- Pour un réseau électrique, $W_{i,j}$ peut modéliser une conductance. Le chemin implictement calculé par $W^{\\otimes k}_{i,j}$ décrit alors par où l'électricité rencontre le moins de résistance pour aller de $i$ à $j$ en au plus $k-1$ composants."
   ]
  },
  {
   "cell_type": "code",
   "execution_count": null,
   "metadata": {},
   "outputs": [],
   "source": []
  },
  {
   "cell_type": "markdown",
   "metadata": {},
   "source": [
    "***\n",
    "# <font color=blue> Bonus : excentricités</font> #\n",
    "***\n",
    "\n",
    "\n",
    "On a vu dans le TP1 une manière de vérifier si une suite est _graphique_ (voir de construire le graphe associé).\n",
    "\n",
    "Un théorème permet de  faire (presque) la même chose pour l'ensemble des excentricité. Lire https://www.sciencedirect.com/science/article/pii/0012365X76900984 et construire l'algorithme associé"
   ]
  },
  {
   "cell_type": "code",
   "execution_count": null,
   "metadata": {},
   "outputs": [],
   "source": []
  }
 ],
 "metadata": {
  "kernelspec": {
   "display_name": "Python 3",
   "language": "python",
   "name": "python3"
  },
  "language_info": {
   "codemirror_mode": {
    "name": "ipython",
    "version": 3
   },
   "file_extension": ".py",
   "mimetype": "text/x-python",
   "name": "python",
   "nbconvert_exporter": "python",
   "pygments_lexer": "ipython3",
   "version": "3.10.12"
  }
 },
 "nbformat": 4,
 "nbformat_minor": 4
}
