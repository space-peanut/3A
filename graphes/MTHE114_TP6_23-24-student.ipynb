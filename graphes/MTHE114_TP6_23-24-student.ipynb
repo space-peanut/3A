{
 "cells": [
  {
   "cell_type": "markdown",
   "metadata": {},
   "source": [
    "\n",
    "***\n",
    "\n",
    "# Calcul Matriciel\n",
    "## TP6. Matching, Weddings and cie\n",
    "***\n",
    "***\n",
    "\n",
    "In this practical, we are going to solve the perfect marriage  problem and implement Gale-Shapley algorithm, used to pair two populations based on each agent's preferences\n",
    "\n",
    "\n",
    "***\n",
    "***\n",
    "A few ground rules for your report:\n",
    "* _your code must be clear, commented and use explicit variable names_\n",
    "* _every algorithm must be tested on a few examples which show the different use cases_\n",
    "* _markdown comments and examples must be provided, and the report should be self-contained_"
   ]
  },
  {
   "cell_type": "code",
   "execution_count": 1,
   "metadata": {},
   "outputs": [],
   "source": [
    "import networkx as nx\n",
    "import numpy as np\n",
    "import matplotlib.pyplot as plt\n",
    "%matplotlib inline\n",
    "#magic\n",
    "import warnings\n",
    "warnings.filterwarnings('ignore')\n"
   ]
  },
  {
   "cell_type": "markdown",
   "metadata": {},
   "source": [
    "***\n",
    "## <font color=pink>Stable mariages</font>##\n",
    "***\n",
    "\n",
    "***\n",
    "\n",
    "### _modelization of the problem_\n",
    "\n",
    "the students and unis are represented by interger ranging from $0$ to $n-0$.\n",
    "\n",
    "The preferences are given by two np array of shape $(n,n)$, <tt>prefStu</tt> and <tt>prefUni</tt> thus the preferences of student $i$ are given by <tt>prefStu[i]</tt>.\n",
    "\n",
    "The marriages are going to be stored in the adjacency matrix $M$ of a (bipartite) graph whose vertices are students (numbered $0$ to $n-$) and unis (numbered $n+0$ to $n+n-0$).\n",
    "\n",
    "\n",
    "\n",
    "**To Do:**\n",
    "\n",
    "**_question 1_**\n",
    "\n",
    "**a** Given arrays of $n$  students/universities, create a array of array for the preferences of each student/university (to have an example for next questions).\n",
    "\n",
    "\n",
    "\n",
    "**b** using <tt>np.arange(n)</tt>, and <tt>np.random.permutation(a)</tt> ; create a random matrix of preferences of size $n \\times n$.\n",
    "\n",
    "\n",
    "**c** \n",
    "Write a function which determines weither a student (resp. a university) is married and to whom (use <tt>np.where</tt> for instance).\n",
    "\n",
    "\n",
    "**d**\n",
    "Write a function which determines if a university prefers a proposed marriage other its current one\n",
    "Same thing for a student.\n",
    "\n",
    "\n",
    "**d'** \n",
    "_(optional)_ Write a function which determines weither a marriage is stable or not.\n",
    "\n",
    "\n",
    "\n",
    "\n",
    "One can compare and verify the solution using https://daffidwilde.github.io/matching/docs/tutorials/stable_marriage.html"
   ]
  },
  {
   "cell_type": "code",
   "execution_count": 2,
   "metadata": {},
   "outputs": [
    {
     "name": "stdout",
     "output_type": "stream",
     "text": [
      "[[5. 2. 1. 4. 0. 3.]\n",
      " [0. 4. 1. 3. 5. 2.]\n",
      " [3. 2. 0. 1. 4. 5.]\n",
      " [0. 4. 3. 1. 2. 5.]\n",
      " [2. 3. 1. 0. 5. 4.]\n",
      " [3. 1. 4. 2. 0. 5.]]\n"
     ]
    }
   ],
   "source": [
    "#a\n",
    "\n",
    "\n",
    "#b\n",
    "def rand_pref(n):\n",
    "    '''\n",
    "    random preferences\n",
    "    '''\n",
    "    prefs=np.ndarray((n,n))\n",
    "    for i in range(n):\n",
    "        prefs[i]=np.random.permutation(n)\n",
    "    return prefs \n",
    "\n",
    "\n",
    "print(rand_pref(6))\n",
    "\n"
   ]
  },
  {
   "cell_type": "code",
   "execution_count": null,
   "metadata": {},
   "outputs": [],
   "source": []
  },
  {
   "cell_type": "code",
   "execution_count": 4,
   "metadata": {},
   "outputs": [
    {
     "name": "stdout",
     "output_type": "stream",
     "text": [
      "4\n",
      "5\n",
      "False\n"
     ]
    }
   ],
   "source": [
    "#c\n",
    "\n",
    "\n",
    "def IsMariedU(M,u):\n",
    "    \"\"\"\n",
    "    #determines if and to whom uni u is matched in M \n",
    "    \"\"\"      \n",
    "    for i in range(len(M)//2):\n",
    "        if M[u+len(M)//2][i]==1:\n",
    "            return i\n",
    "\n",
    "    return -1\n",
    "# M is the adjency matrix of the bipartite graph where the first n nodes are the students and the last n nodes are the universities\n",
    "M=np.array([[0,0,0,0,0,0,0,0,0,0,0,0],\n",
    "            [0,0,0,0,0,0,0,0,0,0,0,0],\n",
    "            [0,0,0,0,0,0,0,0,0,0,0,1],\n",
    "            [0,0,0,0,0,0,0,0,0,0,0,0],\n",
    "            [0,0,0,0,0,0,0,0,0,0,0,0],\n",
    "            [0,0,0,0,0,0,0,0,0,0,0,0],\n",
    "            [1,0,0,0,0,0,0,0,0,0,0,0],\n",
    "            [0,1,0,0,0,0,0,0,0,0,0,0],\n",
    "            [0,0,1,0,0,0,0,0,0,0,0,0],\n",
    "            [0,0,0,1,0,0,0,0,0,0,0,0],\n",
    "            [0,0,0,0,1,0,0,0,0,0,0,0],\n",
    "            [0,0,1,0,0,0,0,0,0,0,0,0]])\n",
    "\n",
    "print(IsMariedU(M,4))\n",
    "\n",
    "def IsMariedS(M,s):\n",
    "    \"\"\"\n",
    "    #determines if and to whom student s is matched in M \n",
    "    \"\"\"    \n",
    "\n",
    "    for i in range(len(M)//2,len(M)):\n",
    "        if M[s][i]==1:\n",
    "            return i-len(M)//2\n",
    "    return -1\n",
    "\n",
    "print(IsMariedS(M,2))\n",
    "\n",
    "def IsCouple(M,s,u):\n",
    "    \"\"\"\n",
    "    #determines if student s and uni u are matched in M\n",
    "    \"\"\"\n",
    "    \n",
    "    if IsMariedU(M,u)==s and IsMariedS(M,s)==u+len(M)//2:\n",
    "        return True\n",
    "\n",
    "    return False\n",
    "\n",
    "\n",
    "print(IsCouple(M,2,5))\n",
    "\n",
    "#d\n",
    "def PrefersUni(M,prefUni,u,prop):\n",
    "    \"\"\"\n",
    "    #determines if uni u prefers the proposition prop\n",
    "    #to its current matching    \n",
    "    \"\"\"\n",
    "\n",
    "    return -1\n",
    "\n",
    "    \n",
    "def PrefersStu(M,prefStu,s,prop):\n",
    "    \"\"\"\n",
    "    determines if student s prefers the proposition prop\n",
    "    to its current matching      \n",
    "    \"\"\"\n",
    "  \n",
    "    return -1"
   ]
  },
  {
   "cell_type": "code",
   "execution_count": 4,
   "metadata": {},
   "outputs": [
    {
     "name": "stdout",
     "output_type": "stream",
     "text": [
      "1\n",
      "1\n",
      "True\n",
      "False\n",
      "[0 5 3 1 4 2]\n"
     ]
    }
   ],
   "source": [
    "\"\"\"tests\"\"\""
   ]
  },
  {
   "cell_type": "markdown",
   "metadata": {},
   "source": [
    "**_question 2_**\n",
    "\n",
    "Assemble the previous functions to get the Gale-Shapley algorithm."
   ]
  },
  {
   "cell_type": "code",
   "execution_count": 10,
   "metadata": {},
   "outputs": [],
   "source": [
    "###todo\n",
    "\n",
    "\n",
    "def GaleShapley(studentPref,uniPref):\n",
    "    \"\"\"\n",
    "        Stable marriage\n",
    "\n",
    "        :param studentPref:  preferences of students\n",
    "        :type studentPref: np array of dim 2\n",
    "        :param uniPref:  preferences of universities\n",
    "        :type uniPref: np array of dim 2\n",
    "        :return: Stable marriage (adjacency matrix of bipartite graph)\n",
    "        :rtype: np array of dim 2\n",
    "    \"\"\"      \n",
    "    \n",
    "    \n",
    "    M=np.zeros((n+n,n+n),int)\n",
    "    \n",
    "    \n",
    "           \n",
    "    return M"
   ]
  },
  {
   "cell_type": "code",
   "execution_count": null,
   "metadata": {},
   "outputs": [],
   "source": []
  },
  {
   "cell_type": "code",
   "execution_count": null,
   "metadata": {},
   "outputs": [],
   "source": []
  },
  {
   "cell_type": "markdown",
   "metadata": {},
   "source": [
    "**_bonus question 1_** \n",
    "\n",
    "Create a function ploting the marriages along the algorithm (idealy with dashed line and colours when a couple is broken)"
   ]
  },
  {
   "cell_type": "code",
   "execution_count": null,
   "metadata": {},
   "outputs": [],
   "source": []
  },
  {
   "cell_type": "markdown",
   "metadata": {},
   "source": [
    "**_bonus question 2_** \n",
    "\n",
    "\n",
    "Plot the average time of execution of the algorithm on (random) instances of size $n$.\n",
    "Conjecture the average time complexity and compare to the (theoretical) worst case time complexity."
   ]
  },
  {
   "cell_type": "code",
   "execution_count": 1,
   "metadata": {},
   "outputs": [],
   "source": [
    "import time\n",
    "\n"
   ]
  },
  {
   "cell_type": "markdown",
   "metadata": {},
   "source": [
    "**_bonus question 3_** \n",
    "\n",
    "Plot the average choice for student and uni on (random) instances of size $n$."
   ]
  },
  {
   "cell_type": "code",
   "execution_count": null,
   "metadata": {},
   "outputs": [],
   "source": []
  },
  {
   "cell_type": "markdown",
   "metadata": {},
   "source": [
    "**_bonus question 4_** \n",
    "\n",
    "Implement and illustrate Irving stable roommates algorithm."
   ]
  },
  {
   "cell_type": "code",
   "execution_count": null,
   "metadata": {},
   "outputs": [],
   "source": []
  }
 ],
 "metadata": {
  "kernelspec": {
   "display_name": "Python 3",
   "language": "python",
   "name": "python3"
  },
  "language_info": {
   "codemirror_mode": {
    "name": "ipython",
    "version": 3
   },
   "file_extension": ".py",
   "mimetype": "text/x-python",
   "name": "python",
   "nbconvert_exporter": "python",
   "pygments_lexer": "ipython3",
   "version": "3.10.12"
  }
 },
 "nbformat": 4,
 "nbformat_minor": 4
}
