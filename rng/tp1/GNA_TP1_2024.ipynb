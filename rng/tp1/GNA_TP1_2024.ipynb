{
 "cells": [
  {
   "cell_type": "markdown",
   "metadata": {},
   "source": [
    "# <center> Générateurs de nombres aléatoires <br> TP1 - Générateurs à Congruence Linéaire (GCL)</center>\n",
    "<center> 2023/2024 - L. Naert/A. Ridard </center>"
   ]
  },
  {
   "cell_type": "markdown",
   "metadata": {},
   "source": [
    "## Le générateur à congruence linéaire"
   ]
  },
  {
   "cell_type": "code",
   "execution_count": 1,
   "metadata": {},
   "outputs": [],
   "source": [
    "import datetime as dt\n",
    "import numpy as np\n",
    "import numpy.random as npr\n",
    "import matplotlib.pyplot as plt"
   ]
  },
  {
   "cell_type": "markdown",
   "metadata": {},
   "source": [
    "> **Question 1 :**\n",
    "> Ecrire une fonction `monGCL(a,b,m,s)` qui, à partir d'un état $s$, retourne le nouvel état : $as + b$ [m]\n"
   ]
  },
  {
   "cell_type": "code",
   "execution_count": 2,
   "metadata": {},
   "outputs": [
    {
     "name": "stdout",
     "output_type": "stream",
     "text": [
      "monGCL : OK\n"
     ]
    }
   ],
   "source": [
    "# Réponse\n",
    "def monGCL(a, b, m, s) :\n",
    "    return (a*s+b)%m\n",
    "    \n",
    "try:\n",
    "    assert monGCL(3,5,10,2) == 1\n",
    "    assert monGCL(3,5,10,1) == 8\n",
    "    assert monGCL(3,5,10,8) == 9\n",
    "    print(\"monGCL : OK\")\n",
    "except:\n",
    "    print(\"monGCL : ERREUR\")\n"
   ]
  },
  {
   "cell_type": "markdown",
   "metadata": {},
   "source": [
    "> **Question 2 :**\n",
    "> Faire une fonction `findPeriod(a,b,m,g)` qui retourne la séquence d'états internes $s$ générée par le GCL jusqu'à la première répétition ainsi que la valeur de la période. (g désigne la graine, g=$s_0$)"
   ]
  },
  {
   "cell_type": "code",
   "execution_count": 3,
   "metadata": {},
   "outputs": [
    {
     "name": "stdout",
     "output_type": "stream",
     "text": [
      "findPeriod : OK\n"
     ]
    }
   ],
   "source": [
    "def findPeriod(a, b, m, g) :\n",
    "    periodes=[g]\n",
    "    while True :\n",
    "        g=(a*g+b)%m\n",
    "        if g in periodes :\n",
    "            periodes.append(g)\n",
    "            periode=len(periodes)-(periodes.index(g)+1)\n",
    "            return periodes ,periode\n",
    "        periodes.append(g)\n",
    "    \n",
    "try:\n",
    "    assert findPeriod(3,5,10,2) == ([2, 1, 8, 9, 2], 4)\n",
    "    assert findPeriod(3,5,10,0) == ([0, 5, 0], 2)\n",
    "    assert findPeriod(4,4,10,1) == ([1, 8, 6, 8], 2)\n",
    "    print(\"findPeriod : OK\")\n",
    "except:\n",
    "    print(\"findPeriod : ERREUR\")"
   ]
  },
  {
   "cell_type": "markdown",
   "metadata": {},
   "source": [
    "> **Question 3 :**\n",
    "- A partir des graines suivantes, générer les entiers avec $a=25$, $b=16$, $m=256$ jusqu'à la première répétition, et préciser la période : <br>\n",
    "$s_0=125$, $s_0=96$, $s_0=50$ et $s_0=10$\n",
    "- Expliquer pourquoi ce générateur n'est pas satisfaisant"
   ]
  },
  {
   "cell_type": "code",
   "execution_count": 4,
   "metadata": {},
   "outputs": [
    {
     "name": "stdout",
     "output_type": "stream",
     "text": [
      "g=125 :  ([125, 69, 205, 21, 29, 229, 109, 181, 189, 133, 13, 85, 93, 37, 173, 245, 253, 197, 77, 149, 157, 101, 237, 53, 61, 5, 141, 213, 221, 165, 45, 117, 125], 32)\n",
      "g=96 :  ([96, 112, 0, 16, 160, 176, 64, 80, 224, 240, 128, 144, 32, 48, 192, 208, 96], 16)\n",
      "s0=10 :  ([10, 10], 1)\n"
     ]
    }
   ],
   "source": [
    "# s0=125\n",
    "print(\"g=125 : \",findPeriod(25,16,256,125))\n",
    "\n",
    "# g=96\n",
    "print(\"g=96 : \",findPeriod(25,16,256,96))\n",
    "\n",
    "#g=10\n",
    "print(\"s0=10 : \",findPeriod(25,16,256,10))"
   ]
  },
  {
   "cell_type": "markdown",
   "metadata": {},
   "source": [
    "Réponse : </br>\n",
    "16 et 256 ne sont pas premiers entre eux, donc le generateur ne peut pas atteindre la perdiode maximale, quelle que soit a ou s0.</br>\n",
    "De plus, la periode depend de la graine."
   ]
  },
  {
   "cell_type": "markdown",
   "metadata": {},
   "source": [
    "> **Question 4 :**\n",
    "> A partir de la graine $s_0=5$, générer les entiers avec $a=6$, $b=2$, $m=2^{24}$ jusqu'à la première répétition, et préciser la période. Que remarquez-vous ?"
   ]
  },
  {
   "cell_type": "code",
   "execution_count": 5,
   "metadata": {},
   "outputs": [
    {
     "name": "stdout",
     "output_type": "stream",
     "text": [
      "([5, 32, 194, 1166, 6998, 41990, 251942, 1511654, 9069926, 4087910, 7750246, 12947046, 10573414, 13108838, 11544166, 2156134, 12936806, 10511974, 12740198, 9332326, 5662310, 419430, 2516582, 15099494, 6710886, 6710886], 1)\n"
     ]
    }
   ],
   "source": [
    "print(findPeriod(6,2,2**24,5))"
   ]
  },
  {
   "cell_type": "markdown",
   "metadata": {},
   "source": [
    "Réponse : </br>\n",
    "Bien que la premiere repetition n'apparaisse pas tout de suite, la periode est de 1. </br>\n",
    "Les 2 derniers elements sont les memes. </br>\n",
    "Ici la periode ne semble pas dependre de la graine, mais comme la periode est 1, ce GCL n'est pas satisfaisant.\n"
   ]
  },
  {
   "cell_type": "markdown",
   "metadata": {},
   "source": [
    "> **Question 5 :**\n",
    "- Ecrire une fonction **monGCL_N**$(a, b, m, g, N)$ qui retourne la liste des $N$ entiers $s_0, s_1, ..., s_{N-1}$ générés à partir de la graine $s_0 = g$ et la relation de récurrence $s_n = f(s_{n-1})$ avec $f(s) = as + b$ [m]\n",
    "- Tester la fonction pour retrouver, au passage, la séquence de la question 4\n",
    "- Implémenter une ou plusieurs des possibilités de GCL avec une période maximale du diapo 17 de cours 1. La période est-elle bien maximale ?"
   ]
  },
  {
   "cell_type": "code",
   "execution_count": 6,
   "metadata": {},
   "outputs": [
    {
     "name": "stdout",
     "output_type": "stream",
     "text": [
      "monGCL_N : OK\n"
     ]
    }
   ],
   "source": [
    "# Réponse\n",
    "def monGCL_N(a,b,m,g,N):\n",
    "    \"\"\"\n",
    "    Cette fonction retourne la liste des N entiers s_0, s_1, ..., s_{N-1} générés\n",
    "    à partir de la graine s_0 = g et la relation de récurrence s_{k+1} = f(s_k) avec f(s) = as + b mod m \n",
    "    \"\"\"\n",
    "    fss=[g]\n",
    "    for i in range(N):\n",
    "        g=monGCL(a,b,m,g)\n",
    "        fss.append(g)\n",
    "    return fss\n",
    "\n",
    "try: #A remplir pour tester que la solution de la question 4 est la même que celle de la question 5\n",
    "    assert findPeriod(1,5,16,4)[0]==monGCL_N(1,5,16,4,16)\n",
    "    print(\"monGCL_N : OK\")\n",
    "except:\n",
    "    print(\"monGCL_N : ERREUR\")\n",
    "\n",
    "\n"
   ]
  },
  {
   "cell_type": "markdown",
   "metadata": {},
   "source": [
    "*Remarque : pour initialiser la graine, on pourra utiliser l'horloge de l'ordinateur*"
   ]
  },
  {
   "cell_type": "code",
   "execution_count": 7,
   "metadata": {},
   "outputs": [
    {
     "name": "stdout",
     "output_type": "stream",
     "text": [
      "5362\n"
     ]
    }
   ],
   "source": [
    "date = str(dt.datetime.now())\n",
    "s = int(date[-4:])\n",
    "print(s)"
   ]
  },
  {
   "cell_type": "markdown",
   "metadata": {},
   "source": [
    "## Le générateur multi-récursif"
   ]
  },
  {
   "cell_type": "markdown",
   "metadata": {},
   "source": [
    "> **Question 6 :**\n",
    "- Ecrire une fonction `monGMR_N(a1,a2,a3,m,g,N)` qui retourne la liste des $N$ triplets $\\left(s_0^{(1)}, s_0^{(2)}, s_0^{(3)}\\right), \\left(s_1^{(1)}, s_1^{(2)}, s_1^{(3)}\\right), ..., \\left(s_{N-1}^{(1)}, s_{N-1}^{(2)}, s_{N-1}^{(3)}\\right)$ générés à partir de la graine $\\left(s_0^{(1)}, s_0^{(2)}, s_0^{(3)}\\right) = g$ et la relation de récurrence $\\left(s_n^{(1)}, s_n^{(2)}, s_n^{(3)}\\right) = f\\Big(\\left(s_{n-1}^{(1)}, s_{n-1}^{(2)}, s_{n-1}^{(3)}\\right)\\Big) = \\left(s_{n-1}^{(2)}, s_{n-1}^{(3)}, a_1s_{n-1}^{(1)} + a_2s_{n-1}^{(2)} + a_3s_{n-1}^{(3)} \\mod m\\right)$\n",
    "- Ajouter un test pour vérifier que vous obtenez bien les valeurs calculées dans le cas de l'exercice du diapo 21 du cours (question 2)."
   ]
  },
  {
   "cell_type": "code",
   "execution_count": 8,
   "metadata": {},
   "outputs": [
    {
     "name": "stdout",
     "output_type": "stream",
     "text": [
      "monGMR_N : OK\n"
     ]
    }
   ],
   "source": [
    "# Réponse\n",
    "# g est ici une liste de 3 entiers\n",
    "def monGMR_N(a1, a2, a3, m, g, N) :\n",
    "    triplets=[g.copy()]\n",
    "    for i in range(N-1):\n",
    "        g2=(g[0]*a1+g[1]*a2+g[2]*a3)%m\n",
    "        g[0]=g[1]\n",
    "        g[1]=g[2]\n",
    "        g[2]=g2\n",
    "        triplets.append(g.copy())\n",
    "    return triplets\n",
    "\n",
    "# Initialisation au hasard\n",
    "#g = list(npr.randint(1000, size=3))\n",
    "\n",
    "try: \n",
    "    assert monGMR_N(0, 1403580, -810728, 2**32 - 209, [10,5,3], 5) == [[10, 5, 3], \n",
    "                                                                [5, 3, 4585716], \n",
    "                                                                [3, 4585716, 1677346834], \n",
    "                                                                [4585716, 1677346834, 2993617742], \n",
    "                                                                [1677346834, 2993617742, 3127246628]]\n",
    "\n",
    "    assert  monGMR_N(2,0,5,10,[1,0,3],5) == [[1, 0, 3],[0,3,7],[3,7,5],[7,5,1],[5,1,9]]\n",
    "    print(\"monGMR_N : OK\")\n",
    "except:\n",
    "    print(\"monGMR_N : ERREUR\")\n",
    "\n",
    "\n"
   ]
  },
  {
   "cell_type": "markdown",
   "metadata": {},
   "source": [
    "## Le générateur MRG32k3"
   ]
  },
  {
   "cell_type": "markdown",
   "metadata": {},
   "source": [
    "> **Question 7 :**\n",
    "> Programmer une fonction `monMRG32k3_N(g,N)` qui retourne la liste des $N$ __réels__ entre 0 et 1 à partir de la graine $g$ (voir diapo 22/23 du cours 1)"
   ]
  },
  {
   "cell_type": "code",
   "execution_count": 9,
   "metadata": {},
   "outputs": [
    {
     "name": "stdout",
     "output_type": "stream",
     "text": [
      "monMRG32k3_N : OK\n"
     ]
    }
   ],
   "source": [
    "# Réponse\n",
    "# g est ici une liste de 6 élements, \n",
    "# les 3 premiers désigne la graine du première GMR et les 3 suivants la graine du deuxième\n",
    "def monMRG32k3_N(g, N) :\n",
    "    gmr1=monGMR_N(0,1403580,-810728,2**32-209,g[:3],N)\n",
    "    gmr2=monGMR_N(527612,0,-1370589,2**32-22853,g[3:],N)\n",
    "    res=[]\n",
    "    for i in range(N):\n",
    "        res.append(((gmr1[i][2]-gmr2[i][2])%(2**32-209))/(2**32-209))\n",
    "    return res\n",
    "\n",
    "try: \n",
    "    g=[1,2,3,4,5,6]\n",
    "    assert monMRG32k3_N(g,3) == [0.9999999993015081, 0.001515891942386845, 0.4304798091692571]\n",
    "    print(\"monMRG32k3_N : OK\")\n",
    "except:\n",
    "    print(\"monMRG32k3_N : ERREUR\")\n",
    "    "
   ]
  },
  {
   "cell_type": "markdown",
   "metadata": {},
   "source": [
    "## Qualité d'un générateur de nombres aléatoires"
   ]
  },
  {
   "cell_type": "markdown",
   "metadata": {},
   "source": [
    "\n",
    "Supposons qu’on génére à l'aide d'un GNA, une suite de nombres réels entre 0 et 1. Il est difficile de comparer une telle suite déterministe (sauf pour le choix de la graine) avec une suite aléatoire. Pour cela, il faut d’abord choisir un critère de qualité, de préférence, simples et pertinents. \n",
    "\n",
    "Nous allons tester ici deux critères : \n",
    "- la fréquence d'apparition de chaque valeur (test spectral de dimension 1)\n",
    "- l’indépendance de deux termes consécutifs (test spectral de dimension 2)"
   ]
  },
  {
   "cell_type": "markdown",
   "metadata": {},
   "source": [
    "> **Question 8 (fréquence d'apparition) :**\n",
    "\n",
    "Générer les 1001 premiers réels en utilisant : \n",
    "- Le GCL de la question 4\n",
    "- Le générateur MRG32k3 avec une graine aléatoire\n",
    "- Le générateur npr.rand de Python\n",
    "  \n",
    "Observer les fréquences d'apparition de chaque valeur à l'aide de l'histogramme, que remarquez-vous ? "
   ]
  },
  {
   "cell_type": "code",
   "execution_count": 10,
   "metadata": {},
   "outputs": [
    {
     "data": {
      "image/png": "[encoded data removed]",
      "text/plain": [
       "<Figure size 640x480 with 3 Axes>"
      ]
     },
     "metadata": {},
     "output_type": "display_data"
    }
   ],
   "source": [
    "# Réponse\n",
    "g = list(npr.randint(1000, size=6)) # une graine \"aleatoire\" de taille 6\n",
    "\n",
    "x_GCL = monGCL_N(6,2,2**24,5,1001)\n",
    "\n",
    "x_MRG32k3 = monMRG32k3_N(g,1001)\n",
    "\n",
    "x_Python = npr.rand(1001)\n",
    "\n",
    "# Pour mettre les 3 figures côte à côte\n",
    "fig, (ax1, ax2, ax3) = plt.subplots(1, 3)\n",
    "plt.tight_layout(rect = [0, 0,1.5,1.5])\n",
    "ax1.set_title('GCL Q4')\n",
    "ax1.hist(x_GCL, density=True)\n",
    "ax1.set_box_aspect(1)\n",
    "\n",
    "ax2.set_title('MRG32k3')\n",
    "ax2.hist(x_MRG32k3, density=True)\n",
    "ax2.set_box_aspect(1)\n",
    "\n",
    "ax3.set_title('Python rand')\n",
    "ax3.hist(x_Python, density=True)\n",
    "ax3.set_box_aspect(1)\n",
    "plt.show()"
   ]
  },
  {
   "cell_type": "markdown",
   "metadata": {},
   "source": [
    "reponse : </br>\n",
    "Le GCL de la question 4 a une tres mauvaise repartiion des valeurs. </br>\n",
    "La repartition des valeurs de MRG32k3 et de numpy sont similaires, et bien plus uniformes."
   ]
  },
  {
   "cell_type": "markdown",
   "metadata": {},
   "source": [
    "> **Question 9 (Indépendance de deux valeurs consécutives) :** Pour cela, on représente graphiquement les points $(x_k, x_{k+1})$ dans le carré $[0, 1]^2$. Un générateur sera bon (pour ce critère) s’il remplit assez rapidement tout le carré.\n",
    "\n",
    "> Construire un vecteur $(x_0, x_1, \\dots, x_{1000})\\in [0, 1]^{1001}$, pour chacun des générateurs suivants (ou réutiliser ceux de la question précédente), puis représenter les points $(x_k, x_{k+1})$ pour :\n",
    "- Le GCL de la question 4\n",
    "- Le générateur MRG32k3\n",
    "- Le générateur de Python\n",
    "\n",
    "> Commenter les résultats obtenus.\n",
    "> "
   ]
  },
  {
   "cell_type": "code",
   "execution_count": 11,
   "metadata": {},
   "outputs": [
    {
     "name": "stdout",
     "output_type": "stream",
     "text": [
      "[2.980232238769531e-07, 1.9073486328125e-06, 1.1563301086425781e-05, 6.949901580810547e-05, 0.0004171133041381836, 0.0025027990341186523, 0.015016913414001465, 0.09010159969329834, 0.5406097173690796, 0.2436584234237671]\n",
      "[5, 32, 194, 1166, 6998, 41990, 251942, 1511654, 9069926, 4087910]\n"
     ]
    },
    {
     "data": {
      "image/png": "[encoded data removed]",
      "text/plain": [
       "<Figure size 640x480 with 3 Axes>"
      ]
     },
     "metadata": {},
     "output_type": "display_data"
    }
   ],
   "source": [
    "# Réponse\n",
    "g = list(npr.randint(1000, size=6)) # une graine \"aleatoire\" de taille 6\n",
    "\n",
    "\n",
    "fig, (ax1, ax2, ax3) = plt.subplots(1, 3)\n",
    "plt.tight_layout(rect = [0, 0, 1.5, 1.5])\n",
    "\n",
    "x_GCLfloat=[]\n",
    "for i in range(len(x_GCL)):\n",
    "    x_GCLfloat.append(x_GCL[i]/2**24)\n",
    "\n",
    "print(x_GCLfloat[:10])\n",
    "print(x_GCL[:10])\n",
    "#ax1.set_title('GCL')\n",
    "ax1.set_xlim(-0.05, 1)\n",
    "ax1.set_ylim(-0.05, 1)\n",
    "ax1.set_aspect(aspect = 'equal')# graphique orthonormé : meme longueur pour x et y -> carre\n",
    "\n",
    "x = x_GCLfloat[:1000]\n",
    "y = x_GCLfloat[1:1001]\n",
    "ax1.plot(x, y, '.')\n",
    "\n",
    "#ax2.set_title('MRG32k3')\n",
    "ax2.set_xlim(-0.05, 1)\n",
    "ax2.set_ylim(-0.05, 1)\n",
    "ax2.set_aspect(aspect = 'equal')\n",
    "x = x_MRG32k3[:1000]\n",
    "y = x_MRG32k3[1:1001]\n",
    "ax2.plot(x, y, '.')\n",
    "             \n",
    "#ax3.set_title('Python')\n",
    "ax3.set_xlim(-0.05, 1)\n",
    "ax3.set_ylim(-0.05, 1)\n",
    "ax3.set_aspect(aspect = 'equal')\n",
    "x = x_Python[:1000]\n",
    "y = x_Python[1:1001]\n",
    "ax3.plot(x, y, '.')\n",
    "\n",
    "plt.show()"
   ]
  },
  {
   "cell_type": "markdown",
   "metadata": {},
   "source": [
    "Remarques : </br>\n",
    "Le GLC de la question 4 a une tres faible couverture, les GPA est mauvais. </br>\n",
    "MRG32k3 et numpy ont une bonne couverture, les GPA sont bons. </br>"
   ]
  },
  {
   "cell_type": "markdown",
   "metadata": {},
   "source": [
    "> **Question 10 (test spectral des GCL) :**\n",
    "\n",
    "> Considérons le GCL défini par :\n",
    "- $S = \\{1, 2, \\dots, 100\\}$\n",
    "- $f(s) = as$ mod $101$\n",
    "- $g(s) = \\displaystyle\\frac{s}{101}$\n",
    "\n",
    "> En prenant respectivement les valeurs 51, 7 et 12 pour le paramètre $a$ du générateur, discuter sa qualité selon le critère précédent."
   ]
  },
  {
   "cell_type": "code",
   "execution_count": 12,
   "metadata": {},
   "outputs": [
    {
     "data": {
      "image/png": "[encoded data removed]",
      "text/plain": [
       "<Figure size 640x480 with 3 Axes>"
      ]
     },
     "metadata": {},
     "output_type": "display_data"
    }
   ],
   "source": [
    "# Réponse\n",
    "g = npr.randint(100)\n",
    "x_GCL1 = monGCL_N(51,0,101,g,1001)\n",
    "x_GCL2 = monGCL_N(7,0,101,g,1001)\n",
    "x_GCL3 = monGCL_N(121,0,101,g,1001)\n",
    "\n",
    "fig, (ax1, ax2, ax3) = plt.subplots(1, 3)\n",
    "plt.tight_layout(rect = [0, 0, 1.5, 1.5])\n",
    "\n",
    "ax1.set_title('GCL a = 51')\n",
    "ax1.set_xlim(-5, 102)\n",
    "ax1.set_ylim(-5, 102)\n",
    "ax1.set_aspect(aspect = 'equal')\n",
    "x = x_GCL1[:1000]\n",
    "y = x_GCL1[1:1001]\n",
    "ax1.plot(x, y, '.')\n",
    "\n",
    "ax2.set_title('GCL a = 7')\n",
    "ax2.set_xlim(-5, 102)\n",
    "ax2.set_ylim(-5, 102)\n",
    "ax2.set_aspect(aspect = 'equal')\n",
    "x = x_GCL2[:1000]\n",
    "y = x_GCL2[1:1001]\n",
    "ax2.plot(x, y, '.')\n",
    "\n",
    "ax3.set_title('GCL a = 12')\n",
    "ax3.set_xlim(-5, 102)\n",
    "ax3.set_ylim(-5, 102)\n",
    "ax3.set_aspect(aspect = 'equal')\n",
    "x = x_GCL3[:1000]\n",
    "y = x_GCL3[1:1001]\n",
    "ax3.plot(x, y, '.')\n",
    "plt.show()"
   ]
  },
  {
   "cell_type": "markdown",
   "metadata": {},
   "source": [
    "Remarques : </br>\n",
    "le meilleeur GCL est pour a =7 avec la plus grande couverture. </br>\n",
    "Le GCL pour a = 51 a une couverture tres faible. Aussi, tous les points sont tres proches les uns des autres. un test spectral en 3 dimensions aurait aussi une tres faible couverture </br>"
   ]
  },
  {
   "cell_type": "markdown",
   "metadata": {},
   "source": [
    "## Attaque sur un GCL"
   ]
  },
  {
   "cell_type": "markdown",
   "metadata": {},
   "source": [
    "Il s'agit maintenant de retrouver les paramètres d'un GCL (valeurs de $a$, $b$ et éventuellement $m$) à partir de la suite de nombres générée et de la connaissance, ou non de la valeur du modulo $m$. \n",
    "\n",
    "Soit $x_1, ..., x_N$ les entiers générés à partir de la graine $x_0$ et la relation de récurrence $x_n = ax_{n-1} + b$ [m].<br>\n",
    "Posons $y_k = x_{k}-x_{k-1}$ pour $k\\geq 1$."
   ]
  },
  {
   "cell_type": "markdown",
   "metadata": {},
   "source": [
    "### Cas 1 : $m$ connu"
   ]
  },
  {
   "cell_type": "markdown",
   "metadata": {},
   "source": [
    "> **Question 11 :**\n",
    "\n",
    "> Dans le cas où $y_1$ est inversible modulo $m$, montrer : $a = y_2y_1^{-1}$ [m] et $b = x_1 - ax_0$ [m]. Pour rappel, $y_1^{-1}$ désigne l'inverse modulaire de $y_1$, c'est à dire le nombre qui multiplié par $y_1$ donne $1$ modulo $m$"
   ]
  },
  {
   "cell_type": "markdown",
   "metadata": {},
   "source": [
    "If $y_1$ is invertible modulo $m$, we can multiply both sides of the equation by $y_1^{-1}$ to get $a = y_2y_1^{-1}$ mod $m$.\n",
    "\n",
    "For the second part, we know that $x_1 = ax_0 + b$ mod $m$. Rearranging this equation, we get $b = x_1 - ax_0$ mod $m$."
   ]
  },
  {
   "cell_type": "markdown",
   "metadata": {},
   "source": [
    "Réponse : \n",
    "\n",
    "\n",
    "\n",
    "**preuve de a :** </br>\n",
    "$y_1=x_1-x_0$ et $y_2=x_2-x_1$ </br>\n",
    "$x_2=ax_1+b$ [m]$ et $x_1=ax_0+b [m]$ </br>\n",
    "$x_2-x_1=a(x_1-x_0)[m]=ay_1 [m]$ donc $y_2=ay_1 [m] \\equiv a=y_2 y_1^{-1} [m]$\n",
    "\n",
    "**preuve de b :** </br>\n",
    "$x_1=ax_0+b [m] \\equiv b=x_1-ax_0 [m]$\n",
    "\n",
    "Propriétés : \n",
    "\n",
    "- $ a\\mod m + b \\mod m = (a+b) \\mod m$\n",
    "- $ a\\mod m \\times b \\mod m = (a*b) \\mod m$\n",
    "- $a = b \\mod c \\equiv b = a \\mod c$\n",
    "- $aa^{-1} \\mod m = 1 \\mod m$"
   ]
  },
  {
   "cell_type": "markdown",
   "metadata": {},
   "source": [
    "La fonction `inverseModulaire(mModulo, aNombre)` ci-dessous permet de calculer l'inverse modulaire d'un nombre en utilisant l'algorithme d'Euclide étendu. \n",
    "(source : https://github.com/MichaelCaraccio/Cryptographic-Algorithms/blob/master/Python/RSA_diffiehellman/euclide.py)"
   ]
  },
  {
   "cell_type": "code",
   "execution_count": 13,
   "metadata": {},
   "outputs": [],
   "source": [
    "# Fonctions utiles\n",
    "def inverseModulaire(mModulo, aNombre):\n",
    "    \"\"\" Algorithme d'Euclide étendu pour trouver l'inverse modulaire \n",
    "        Inverse modulaire de a modulo m ---> a * a^-1 mod m = 1 \"\"\"\n",
    "    \n",
    "    modulo = mModulo\n",
    "    \n",
    "    x = 0\n",
    "    y = 1\n",
    "    u = 1\n",
    "    v = 0\n",
    "    \n",
    "    while aNombre != 0:\n",
    "        q = mModulo // aNombre\n",
    "        r = mModulo % aNombre\n",
    "        \n",
    "        m = x - u * q\n",
    "        n = y - v * q\n",
    "        \n",
    "        mModulo = aNombre\n",
    "        aNombre = r\n",
    "        x = u\n",
    "        y = v\n",
    "        u = m\n",
    "        v = n\n",
    "        \n",
    "    return x % modulo if mModulo == 1 else 0\n",
    "    \n",
    "    \n",
    "def pgcd(a, b):\n",
    "    \"\"\"Sortie : pgcd de 2 entiers\"\"\"\n",
    "    while b != 0: \n",
    "        a, b = b, a%b\n",
    "    if a < 0:\n",
    "        a = -a\n",
    "    return a\n",
    "\n",
    "def pgcdn(lst_n):\n",
    "    \"\"\"Sortie : pgcd de n (>=2) entiers\"\"\"\n",
    "    p = pgcd(lst_n[0], lst_n[1])\n",
    "    for x in lst_n[2:]:\n",
    "        p = pgcd(p, x)\n",
    "    return p\n"
   ]
  },
  {
   "cell_type": "markdown",
   "metadata": {},
   "source": [
    "> **Question 12 :**\n",
    "- En sachant que $m = 1023$, déterminer le GCL ayant généré les entiers 97, 188, 235, 293, 604, 596, 412. Pour cela, écrire une fonction `attaque_GCL_mConnu(x, m)` qui prend en entrée la suite $x$ des valeurs générées par le GCL, et $m$ le modulo connu et donne en sortie les valeurs de $a$ et $b$.\n",
    "- Vérifier le résultat à l'aide de **monGCL_N**$(a, b, m, g, N)$ de la question 5"
   ]
  },
  {
   "cell_type": "code",
   "execution_count": 14,
   "metadata": {},
   "outputs": [
    {
     "name": "stdout",
     "output_type": "stream",
     "text": [
      "attaque_GCL_mConnu : OK\n"
     ]
    }
   ],
   "source": [
    "# Réponse\n",
    "def attaque_GCL_mConnu(x, m):   \n",
    "    \"\"\" Entrée : liste x de la suite des valeurs générées par le GCL,\n",
    "        et m le modulo connu\n",
    "        Sorties : a et b les coefficients de la fonction (affine) de transition\n",
    "    \"\"\"\n",
    "    yks=[]\n",
    "    for i in range(1,len(x)):\n",
    "        yks.append(x[i]-x[i-1])\n",
    "    \n",
    "    a=yks[1]*inverseModulaire(m,yks[0])\n",
    "    b=(x[1]-a*x[0])%m\n",
    "    \n",
    "\n",
    "    return a,b\n",
    "\n",
    "#Application à faire\n",
    "\n",
    "x=[97, 188, 235, 293, 604, 596, 412]\n",
    "m=1023\n",
    "try:\n",
    "    a,b=attaque_GCL_mConnu(x,m)\n",
    "    assert x == monGCL_N(a,b,m,97,6)\n",
    "    print(\"attaque_GCL_mConnu : OK\")\n",
    "except:\n",
    "    print(\"attaque_GCL_mConnu : ERREUR\")"
   ]
  },
  {
   "cell_type": "markdown",
   "metadata": {},
   "source": [
    "### Cas 2 : $m$ inconnu"
   ]
  },
  {
   "cell_type": "markdown",
   "metadata": {},
   "source": [
    "> **Question 13 :**\n",
    "- Montrer $y_{k+1} = ay_k$ [m].\n",
    "- Posons $z_k = y_{k+1}y_{k-1}-y_k^2$, déduire de la question précédente que $z_k = 0$ [m]"
   ]
  },
  {
   "cell_type": "markdown",
   "metadata": {},
   "source": [
    "Réponse : \n",
    "- montrez que $y_{k+1} = ay_k [m]$. </br>"
   ]
  },
  {
   "cell_type": "markdown",
   "metadata": {},
   "source": [
    "Tous les $z_k$ sont donc des multiples de $m$, autrement dit $m$ est un diviseur commun de tous les $z_k$ et \"très probablement\" le PGCD de tous les $z_k$"
   ]
  },
  {
   "cell_type": "markdown",
   "metadata": {},
   "source": [
    "> **Question 14 :**\n",
    "- A l'aide de la remarque précédente, déterminer le GCL ayant généré les entiers suivants :\n",
    "> <center> 234, 1227, 12158, 2475, 26787, 30101, 12498, 18328, 76, 11400 </center>\n",
    "Pour cela, écrire une méthode `attaque_GCL_mInconnu(x)` qui donne en sortie, les coefficients $a$, $b$ et le modulo $m$ à partir de la séquence $x$ des entiers générés. \n",
    "- Combien d'entiers suffisent pour déterminer ce GCL ?"
   ]
  },
  {
   "cell_type": "code",
   "execution_count": 30,
   "metadata": {},
   "outputs": [
    {
     "name": "stdout",
     "output_type": "stream",
     "text": [
      "32759 3 1023\n",
      "[97, 188, 235, 293, 604, 596, 412]\n",
      "attaque_GCL_mInconnu : OK\n",
      "\n",
      "[234, 1227, 12158, 2475, 26787, 30101, 12498, 18328, 76, 11400]\n",
      "attaque_GCL_mInconnu : OK\n",
      "\n",
      "[476701654, 0, 0, 0, 0, 0, 0, 0, 0, 0, 0]\n",
      "attaque_GCL_mInconnu : ERREUR\n",
      "\n",
      "[476701654, 1778738775, 130368836, 1085367853, 209217378, 1452282099, 259223984, 1592473641, 1845073838, 1578158415]\n",
      "attaque_GCL_mInconnu : OK\n",
      "\n"
     ]
    }
   ],
   "source": [
    "# Réponse\n",
    "\n",
    "\n",
    "def attaque_GCL_mInconnu(x):  \n",
    "    \"\"\" Entrée : liste x de la suite des valeurs générées par le GCL\n",
    "        Sorties : a et b les coefficients de la fonction (affine) de transition et m le modulo\n",
    "        (et nbEntiers : le nombre d'entiers minimum dont on a eu besoin)\n",
    "    \"\"\"\n",
    "\n",
    "    yks=[]\n",
    "    for i in range(1,len(x)):\n",
    "        yks.append(x[i]-x[i-1])\n",
    "\n",
    "    zks=[]\n",
    "    for i in range(1,len(yks)-1):\n",
    "        zks.append(yks[i+1]*yks[i-1]-yks[i]**2)\n",
    "\n",
    "    m=pgcdn(zks)\n",
    "    a,b=attaque_GCL_mConnu(x,m)\n",
    "  \n",
    "    return a,b,m\n",
    "     \n",
    "    \n",
    "    \n",
    "    \n",
    "\n",
    "#Application à faire\n",
    "\n",
    "x=[97, 188, 235, 293, 604, 596, 412]\n",
    "try:\n",
    "    a,b,m=attaque_GCL_mInconnu(x)\n",
    "    print(a,b,m)\n",
    "    print(monGCL_N(a,b,m,97,6))\n",
    "    assert x == monGCL_N(a,b,m,97,6)\n",
    "    print(\"attaque_GCL_mInconnu : OK\\n\")\n",
    "except:\n",
    "    print(\"attaque_GCL_mInconnu : ERREUR\\n\")\n",
    "\n",
    "x = [234, 1227, 12158, 2475, 26787, 30101, 12498, 18328, 76, 11400 ]\n",
    "try :\n",
    "    a,b,m = attaque_GCL_mInconnu(x)\n",
    "    print(monGCL_N(a,b,m,234,len(x)-1))\n",
    "    assert x == monGCL_N(a,b,m,234,len(x)-1)\n",
    "    print(\"attaque_GCL_mInconnu : OK\\n\")\n",
    "except:\n",
    "    print(\"attaque_GCL_mInconnu : ERREUR\\n\")\n",
    "\n",
    "x = [476701654, 1778738775, 130368836, 1085367853, 209217378, 1452282099, 123, 234, 345, 456, 567]\n",
    "try :\n",
    "    a,b,m = attaque_GCL_mInconnu(x)\n",
    "    print(monGCL_N(a,b,m,x[0],len(x)-1))\n",
    "    assert x == monGCL_N(1,111,m,x[0],len(x)-1)\n",
    "    print(\"attaque_GCL_mInconnu : OK\\n\")\n",
    "except:\n",
    "    print(\"attaque_GCL_mInconnu : ERREUR\\n\")\n",
    "\n",
    "x = [476701654, 1778738775, 130368836, 1085367853, 209217378, 1452282099, 259223984, 1592473641, 1845073838, 1578158415]\n",
    "try :\n",
    "    a,b,m = attaque_GCL_mInconnu(x)\n",
    "    print(monGCL_N(a,b,m,x[0],len(x)-1))\n",
    "    assert x == monGCL_N(a,b,m,x[0],len(x)-1)\n",
    "    print(\"attaque_GCL_mInconnu : OK\\n\")\n",
    "except:\n",
    "    print(\"attaque_GCL_mInconnu : ERREUR\\n\")"
   ]
  },
  {
   "cell_type": "markdown",
   "metadata": {},
   "source": [
    "Le nombre minimum d'entiers nécessaires pour déterminer les parametres d'un GCL semble varier en fonction de son module et de son a. </br>\n",
    "On peut voir dans la 2e serie de x que l'ecart entre les valeurs est constant (a=1 et b=111), cependant, l'algorithme ne peut pas determiner m. </br>\n",
    "\n",
    "<div style=\"text-align: right\">Maxime Soulie</div>'\n"
   ]
  }
 ],
 "metadata": {
  "kernelspec": {
   "display_name": "Python 3 (ipykernel)",
   "language": "python",
   "name": "python3"
  },
  "language_info": {
   "codemirror_mode": {
    "name": "ipython",
    "version": 3
   },
   "file_extension": ".py",
   "mimetype": "text/x-python",
   "name": "python",
   "nbconvert_exporter": "python",
   "pygments_lexer": "ipython3",
   "version": "3.11.8"
  }
 },
 "nbformat": 4,
 "nbformat_minor": 4
}
