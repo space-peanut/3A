{
 "cells": [
  {
   "cell_type": "markdown",
   "metadata": {},
   "source": [
    "# <center> Générateurs de nombres aléatoires <br> TP1 - Générateurs à Congruence Linéaire (GCL)</center>\n",
    "<center> 2023/2024 - L. Naert/A. Ridard </center>"
   ]
  },
  {
   "cell_type": "markdown",
   "metadata": {},
   "source": [
    "## Le générateur à congruence linéaire"
   ]
  },
  {
   "cell_type": "code",
   "execution_count": 1,
   "metadata": {},
   "outputs": [],
   "source": [
    "import datetime as dt\n",
    "import numpy as np\n",
    "import numpy.random as npr\n",
    "import matplotlib.pyplot as plt"
   ]
  },
  {
   "cell_type": "markdown",
   "metadata": {},
   "source": [
    "> **Question 1 :**\n",
    "> Ecrire une fonction `monGCL(a,b,m,s)` qui, à partir d'un état $s$, retourne le nouvel état : $as + b$ mod $m$\n"
   ]
  },
  {
   "cell_type": "code",
   "execution_count": 1,
   "metadata": {},
   "outputs": [
    {
     "name": "stdout",
     "output_type": "stream",
     "text": [
      "monGCL : ERREUR\n"
     ]
    }
   ],
   "source": [
    "# Réponse\n",
    "def monGCL(a, b, m, s) :\n",
    "    return \"todo\"\n",
    "    \n",
    "try:\n",
    "    assert monGCL(3,5,10,2) == 1\n",
    "    assert monGCL(3,5,10,1) == 8\n",
    "    assert monGCL(3,5,10,8) == 9\n",
    "    print(\"monGCL : OK\")\n",
    "except:\n",
    "    print(\"monGCL : ERREUR\")\n"
   ]
  },
  {
   "cell_type": "markdown",
   "metadata": {},
   "source": [
    "> **Question 2 :**\n",
    "> Faire une fonction `findPeriod(a,b,m,g)` qui retourne la séquence d'états internes $s$ générée par le GCL jusqu'à la première répétition ainsi que la valeur de la période. (g désigne la graine, g=$s_0$)"
   ]
  },
  {
   "cell_type": "code",
   "execution_count": 2,
   "metadata": {},
   "outputs": [
    {
     "name": "stdout",
     "output_type": "stream",
     "text": [
      "findPeriod : ERREUR\n"
     ]
    }
   ],
   "source": [
    "def findPeriod(a, b, m, g) :\n",
    "    \n",
    "    return \"todo\",\"todo\"\n",
    "\n",
    "try:\n",
    "    assert findPeriod(3,5,10,2) == ([2, 1, 8, 9, 2], 4)\n",
    "    assert findPeriod(3,5,10,0) == ([0, 5, 0], 2)\n",
    "    assert findPeriod(4,4,10,1) == ([1, 8, 6, 8], 2)\n",
    "    print(\"findPeriod : OK\")\n",
    "except:\n",
    "    print(\"findPeriod : ERREUR\")"
   ]
  },
  {
   "cell_type": "markdown",
   "metadata": {},
   "source": [
    "> **Question 3 :**\n",
    "- A partir des graines suivantes, générer les entiers avec $a=25$, $b=16$, $m=256$ jusqu'à la première répétition, et préciser la période : <br>\n",
    "$s_0=125$, $s_0=96$, $s_0=50$ et $s_0=10$\n",
    "- Expliquer pourquoi ce générateur n'est pas satisfaisant"
   ]
  },
  {
   "cell_type": "code",
   "execution_count": 3,
   "metadata": {},
   "outputs": [],
   "source": [
    "#TODO"
   ]
  },
  {
   "cell_type": "markdown",
   "metadata": {},
   "source": [
    "Réponse : \n",
    "Todo"
   ]
  },
  {
   "cell_type": "markdown",
   "metadata": {},
   "source": [
    "> **Question 4 :**\n",
    "> A partir de la graine $s_0=5$, générer les entiers avec $a=6$, $b=2$, $m=2^{24}$ jusqu'à la première répétition, et préciser la période. Que remarquez-vous ?"
   ]
  },
  {
   "cell_type": "code",
   "execution_count": 4,
   "metadata": {},
   "outputs": [],
   "source": [
    "#Todo"
   ]
  },
  {
   "cell_type": "markdown",
   "metadata": {},
   "source": [
    "> **Question 5 :**\n",
    "- Ecrire une fonction **monGCL_N**$(a, b, m, g, N)$ qui retourne la liste des $N$ entiers $s_0, s_1, ..., s_{N-1}$ générés à partir de la graine $s_0 = g$ et la relation de récurrence $s_n = f(s_{n-1})$ avec $f(s) = as + b$ mod $m$\n",
    "- Tester la fonction pour retrouver, au passage, la séquence de la question 4\n",
    "- Implémenter une ou plusieurs des possibilités de GCL avec une période maximale du diapo 17 de cours 1. La période est-elle bien maximale ?"
   ]
  },
  {
   "cell_type": "code",
   "execution_count": 5,
   "metadata": {},
   "outputs": [
    {
     "ename": "SyntaxError",
     "evalue": "invalid syntax (52364042.py, line 11)",
     "output_type": "error",
     "traceback": [
      "\u001b[1;36m  Cell \u001b[1;32mIn[5], line 11\u001b[1;36m\u001b[0m\n\u001b[1;33m    assert # a remplir\u001b[0m\n\u001b[1;37m           ^\u001b[0m\n\u001b[1;31mSyntaxError\u001b[0m\u001b[1;31m:\u001b[0m invalid syntax\n"
     ]
    }
   ],
   "source": [
    "# Réponse\n",
    "def monGCL_N(a,b,m,g,N):\n",
    "    \"\"\"\n",
    "    Cette fonction retourne la liste des N entiers s_0, s_1, ..., s_{N-1} générés\n",
    "    à partir de la graine s_0 = g et la relation de récurrence s_{k+1} = f(s_k) avec f(s) = as + b mod m \n",
    "    \"\"\"\n",
    "    return \"todo\"\n",
    "\n",
    "try: #A remplir pour tester que la solution de la question 4 est la même que celle de la question 5\n",
    "    \n",
    "    assert # a remplir\n",
    "    print(\"monGCL_N : OK\")\n",
    "except:\n",
    "    print(\"monGCL_N : ERREUR\")\n",
    "\n"
   ]
  },
  {
   "cell_type": "markdown",
   "metadata": {},
   "source": [
    "*Remarque : pour initialiser la graine, on pourra utiliser l'horloge de l'ordinateur*"
   ]
  },
  {
   "cell_type": "code",
   "execution_count": 8,
   "metadata": {},
   "outputs": [
    {
     "name": "stdout",
     "output_type": "stream",
     "text": [
      "4616\n"
     ]
    }
   ],
   "source": [
    "date = str(dt.datetime.now())\n",
    "s = int(date[-4:])\n",
    "print(s)"
   ]
  },
  {
   "cell_type": "markdown",
   "metadata": {},
   "source": [
    "## Le générateur multi-récursif"
   ]
  },
  {
   "cell_type": "markdown",
   "metadata": {},
   "source": [
    "> **Question 6 :**\n",
    "- Ecrire une fonction `monGMR_N(a1,a2,a3,m,g,N)` qui retourne la liste des $N$ triplets $\\left(s_0^{(1)}, s_0^{(2)}, s_0^{(3)}\\right), \\left(s_1^{(1)}, s_1^{(2)}, s_1^{(3)}\\right), ..., \\left(s_{N-1}^{(1)}, s_{N-1}^{(2)}, s_{N-1}^{(3)}\\right)$ générés à partir de la graine $\\left(s_0^{(1)}, s_0^{(2)}, s_0^{(3)}\\right) = g$ et la relation de récurrence $\\left(s_n^{(1)}, s_n^{(2)}, s_n^{(3)}\\right) = f\\Big(\\left(s_{n-1}^{(1)}, s_{n-1}^{(2)}, s_{n-1}^{(3)}\\right)\\Big) = \\left(s_{n-1}^{(2)}, s_{n-1}^{(3)}, a_1s_{n-1}^{(1)} + a_2s_{n-1}^{(2)} + a_3s_{n-1}^{(3)} \\mod m\\right)$\n",
    "- Ajouter un test pour vérifier que vous obtenez bien les valeurs calculées dans le cas de l'exercice du diapo 21 du cours (question 2)."
   ]
  },
  {
   "cell_type": "code",
   "execution_count": 6,
   "metadata": {},
   "outputs": [
    {
     "ename": "SyntaxError",
     "evalue": "invalid syntax (72052438.py, line 17)",
     "output_type": "error",
     "traceback": [
      "\u001b[1;36m  Cell \u001b[1;32mIn[6], line 17\u001b[1;36m\u001b[0m\n\u001b[1;33m    assert  #Test à rajouter\u001b[0m\n\u001b[1;37m            ^\u001b[0m\n\u001b[1;31mSyntaxError\u001b[0m\u001b[1;31m:\u001b[0m invalid syntax\n"
     ]
    }
   ],
   "source": [
    "# Réponse\n",
    "# g est ici une liste de 3 entiers\n",
    "def monGMR_N(a1, a2, a3, m, g, N) :\n",
    "   \n",
    "    return \"todo\"\n",
    "\n",
    "# Initialisation au hasard\n",
    "#g = list(npr.randint(1000, size=3))\n",
    "\n",
    "try: \n",
    "    assert monGMR_N(0, 1403580, -810728, 2**32 - 209, [10,5,3], 5) == [[10, 5, 3], \n",
    "                                                                [5, 3, 4585716], \n",
    "                                                                [3, 4585716, 1677346834], \n",
    "                                                                [4585716, 1677346834, 2993617742], \n",
    "                                                                [1677346834, 2993617742, 3127246628]]\n",
    "\n",
    "    assert  #Test à rajouter\n",
    "    print(\"monGMR_N : OK\")\n",
    "except:\n",
    "    print(\"monGMR_N : ERREUR\")\n",
    "\n",
    "\n"
   ]
  },
  {
   "cell_type": "markdown",
   "metadata": {},
   "source": [
    "## Le générateur MRG32k3"
   ]
  },
  {
   "cell_type": "markdown",
   "metadata": {},
   "source": [
    "> **Question 7 :**\n",
    "> Programmer une fonction `monMRG32k3_N(g,N)` qui retourne la liste des $N$ __réels__ entre 0 et 1 à partir de la graine $g$ (voir diapo 22/23 du cours 1)"
   ]
  },
  {
   "cell_type": "code",
   "execution_count": 7,
   "metadata": {},
   "outputs": [
    {
     "name": "stdout",
     "output_type": "stream",
     "text": [
      "monMRG32k3_N : ERREUR\n"
     ]
    }
   ],
   "source": [
    "# Réponse\n",
    "# g est ici une liste de 6 élements, \n",
    "# les 3 premiers désigne la graine du première GMR et les 3 suivants la graine du deuxième\n",
    "def monMRG32k3_N(g, N) :\n",
    "    return \"todo\"\n",
    "\n",
    "try: \n",
    "    g=[1,2,3,4,5,6]\n",
    "    assert monMRG32k3_N(g,3) == [0.9999999993015081, 0.001515891942386845, 0.4304798091692571]\n",
    "    print(\"monMRG32k3_N : OK\")\n",
    "except:\n",
    "    print(\"monMRG32k3_N : ERREUR\")\n",
    "    "
   ]
  },
  {
   "cell_type": "markdown",
   "metadata": {},
   "source": [
    "## Qualité d'un générateur de nombres aléatoires"
   ]
  },
  {
   "cell_type": "markdown",
   "metadata": {},
   "source": [
    "\n",
    "Supposons qu’on génére à l'aide d'un GNA, une suite de nombres réels entre 0 et 1. Il est difficile de comparer une telle suite déterministe (sauf pour le choix de la graine) avec une suite aléatoire. Pour cela, il faut d’abord choisir un critère de qualité, de préférence, simples et pertinents. \n",
    "\n",
    "Nous allons tester ici deux critères : \n",
    "- la fréquence d'apparition de chaque valeur (test spectral de dimension 1)\n",
    "- l’indépendance de deux termes consécutifs (test spectral de dimension 2)"
   ]
  },
  {
   "cell_type": "markdown",
   "metadata": {},
   "source": [
    "> **Question 8 (fréquence d'apparition) :**\n",
    "\n",
    "Générer les 1001 premiers réels en utilisant : \n",
    "- Le GCL de la question 4\n",
    "- Le générateur MRG32k3 avec une graine aléatoire\n",
    "- Le générateur npr.rand de Python\n",
    "  \n",
    "Observer les fréquences d'apparition de chaque valeur à l'aide de l'histogramme, que remarquez-vous ? "
   ]
  },
  {
   "cell_type": "code",
   "execution_count": 8,
   "metadata": {},
   "outputs": [
    {
     "ename": "NameError",
     "evalue": "name 'npr' is not defined",
     "output_type": "error",
     "traceback": [
      "\u001b[1;31m---------------------------------------------------------------------------\u001b[0m",
      "\u001b[1;31mNameError\u001b[0m                                 Traceback (most recent call last)",
      "Cell \u001b[1;32mIn[8], line 2\u001b[0m\n\u001b[0;32m      1\u001b[0m \u001b[38;5;66;03m# Réponse\u001b[39;00m\n\u001b[1;32m----> 2\u001b[0m g \u001b[38;5;241m=\u001b[39m \u001b[38;5;28mlist\u001b[39m(\u001b[43mnpr\u001b[49m\u001b[38;5;241m.\u001b[39mrandint(\u001b[38;5;241m1000\u001b[39m, size\u001b[38;5;241m=\u001b[39m\u001b[38;5;241m6\u001b[39m)) \u001b[38;5;66;03m# une graine \"aleatoire\" de taille 6\u001b[39;00m\n\u001b[0;32m      4\u001b[0m x_GCL \u001b[38;5;241m=\u001b[39m np\u001b[38;5;241m.\u001b[39marray(monGCL_N(\u001b[38;5;241m6\u001b[39m, \u001b[38;5;241m2\u001b[39m, \u001b[38;5;241m2\u001b[39m\u001b[38;5;241m*\u001b[39m\u001b[38;5;241m*\u001b[39m\u001b[38;5;241m24\u001b[39m, \u001b[38;5;241m5\u001b[39m, \u001b[38;5;241m1001\u001b[39m)) \u001b[38;5;241m/\u001b[39m \u001b[38;5;241m2\u001b[39m\u001b[38;5;241m*\u001b[39m\u001b[38;5;241m*\u001b[39m\u001b[38;5;241m24\u001b[39m \n\u001b[0;32m      5\u001b[0m \u001b[38;5;66;03m# on n'oublie pas de diviser par m pour avoir un nombre entre 0 et 1\u001b[39;00m\n",
      "\u001b[1;31mNameError\u001b[0m: name 'npr' is not defined"
     ]
    }
   ],
   "source": [
    "# Réponse\n",
    "g = list(npr.randint(1000, size=6)) # une graine \"aleatoire\" de taille 6\n",
    "\n",
    "x_GCL = # a remplir\n",
    "\n",
    "x_MRG32k3 = # a remplir\n",
    "\n",
    "x_Python = # a remplir\n",
    "\n",
    "# Pour mettre les 3 figures côte à côte\n",
    "fig, (ax1, ax2, ax3) = plt.subplots(1, 3)\n",
    "plt.tight_layout(rect = [0, 0,1.5,1.5])\n",
    "ax1.set_title('GCL Q4')\n",
    "ax1.hist(x_GCL, density=True)\n",
    "ax1.set_box_aspect(1)\n",
    "\n",
    "ax2.set_title('MRG32k3')\n",
    "ax2.hist(x_MRG32k3, density=True)\n",
    "ax2.set_box_aspect(1)\n",
    "\n",
    "ax3.set_title('Python rand')\n",
    "ax3.hist(x_Python, density=True)\n",
    "ax3.set_box_aspect(1)\n",
    "plt.show()"
   ]
  },
  {
   "cell_type": "markdown",
   "metadata": {},
   "source": [
    "> **Question 9 (Indépendance de deux valeurs consécutives) :** Pour cela, on représente graphiquement les points $(x_k, x_{k+1})$ dans le carré $[0, 1]^2$. Un générateur sera bon (pour ce critère) s’il remplit assez rapidement tout le carré.\n",
    "\n",
    "> Construire un vecteur $(x_0, x_1, \\dots, x_{1000})\\in [0, 1]^{101}$, pour chacun des générateurs suivants (ou réutiliser ceux de la question précédente), puis représenter les points $(x_k, x_{k+1})$ pour :\n",
    "- Le GCL de la question 4\n",
    "- Le générateur MRG32k3\n",
    "- Le générateur de Python\n",
    "\n",
    "> Commenter les résultats obtenus.\n",
    "> "
   ]
  },
  {
   "cell_type": "code",
   "execution_count": 9,
   "metadata": {},
   "outputs": [
    {
     "ename": "SyntaxError",
     "evalue": "invalid syntax (3397316881.py, line 5)",
     "output_type": "error",
     "traceback": [
      "\u001b[1;36m  Cell \u001b[1;32mIn[9], line 5\u001b[1;36m\u001b[0m\n\u001b[1;33m    x_GCL = # a remplir\u001b[0m\n\u001b[1;37m            ^\u001b[0m\n\u001b[1;31mSyntaxError\u001b[0m\u001b[1;31m:\u001b[0m invalid syntax\n"
     ]
    }
   ],
   "source": [
    "# Réponse\n",
    "g = list(npr.randint(1000, size=6)) # une graine \"aleatoire\" de taille 6\n",
    "\n",
    "\n",
    "x_GCL = # a remplir\n",
    "\n",
    "x_MRG32k3 = # a remplir\n",
    "\n",
    "x_Python = # a remplir\n",
    "\n",
    "fig, (ax1, ax2, ax3) = plt.subplots(1, 3)\n",
    "plt.tight_layout(rect = [0, 0, 1.5, 1.5])\n",
    "\n",
    "#ax1.set_title('GCL')\n",
    "ax1.set_xlim(-0.05, 1)\n",
    "ax1.set_ylim(-0.05, 1)\n",
    "ax1.set_aspect(aspect = 'equal')# graphique orthonormé : meme longueur pour x et y -> carre\n",
    "\n",
    "x = # a remplir\n",
    "y = # a remplir\n",
    "ax1.plot(x, y, '.')\n",
    "\n",
    "#ax2.set_title('MRG32k3')\n",
    "ax2.set_xlim(-0.05, 1)\n",
    "ax2.set_ylim(-0.05, 1)\n",
    "ax2.set_aspect(aspect = 'equal')\n",
    "x = # a remplir\n",
    "y = # a remplir\n",
    "ax2.plot(x, y, '.')\n",
    "             \n",
    "#ax3.set_title('Python')\n",
    "ax3.set_xlim(-0.05, 1)\n",
    "ax3.set_ylim(-0.05, 1)\n",
    "ax3.set_aspect(aspect = 'equal')\n",
    "x = # a remplir\n",
    "y = # a remplir\n",
    "ax3.plot(x, y, '.')\n",
    "\n",
    "plt.show()"
   ]
  },
  {
   "cell_type": "markdown",
   "metadata": {},
   "source": [
    "Remarques : "
   ]
  },
  {
   "cell_type": "markdown",
   "metadata": {},
   "source": [
    "> **Question 10 (test spectral des GCL) :**\n",
    "\n",
    "> Considérons le GCL défini par :\n",
    "- $S = \\{1, 2, \\dots, 100\\}$\n",
    "- $f(s) = as$ mod $101$\n",
    "- $g(s) = \\displaystyle\\frac{s}{101}$\n",
    "\n",
    "> En prenant respectivement les valeurs 51, 7 et 12 pour le paramètre $a$ du générateur, discuter sa qualité selon le critère précédent."
   ]
  },
  {
   "cell_type": "code",
   "execution_count": 20,
   "metadata": {},
   "outputs": [
    {
     "data": {
      "image/png": "[encoded data removed]",
      "text/plain": [
       "<Figure size 640x480 with 3 Axes>"
      ]
     },
     "metadata": {},
     "output_type": "display_data"
    }
   ],
   "source": [
    "# Réponse\n",
    "g = npr.randint(100)\n",
    "x_GCL1 = # à remplir\n",
    "x_GCL2 = # à remplir\n",
    "x_GCL3 = # à remplir\n",
    "\n",
    "fig, (ax1, ax2, ax3) = plt.subplots(1, 3)\n",
    "plt.tight_layout(rect = [0, 0, 1.5, 1.5])\n",
    "\n",
    "ax1.set_title('GCL a = 51')\n",
    "ax1.set_xlim(-0.05, 1)\n",
    "ax1.set_ylim(-0.05, 1)\n",
    "ax1.set_aspect(aspect = 'equal')\n",
    "x = # à remplir\n",
    "y = # à remplir\n",
    "ax1.plot(x, y, '.')\n",
    "\n",
    "ax2.set_title('GCL a = 7')\n",
    "ax2.set_xlim(-0.05, 1)\n",
    "ax2.set_ylim(-0.05, 1)\n",
    "ax2.set_aspect(aspect = 'equal')\n",
    "x = # à remplir\n",
    "y = # à remplir\n",
    "ax2.plot(x, y, '.')\n",
    "\n",
    "ax3.set_title('GCL a = 12')\n",
    "ax3.set_xlim(-0.05, 1)\n",
    "ax3.set_ylim(-0.05, 1)\n",
    "ax3.set_aspect(aspect = 'equal')\n",
    "x = # à remplir\n",
    "y = # à remplir\n",
    "ax3.plot(x, y, '.')\n",
    "plt.show()"
   ]
  },
  {
   "cell_type": "markdown",
   "metadata": {},
   "source": [
    "Remarques : "
   ]
  },
  {
   "cell_type": "markdown",
   "metadata": {},
   "source": [
    "## Attaque sur un GCL"
   ]
  },
  {
   "cell_type": "markdown",
   "metadata": {},
   "source": [
    "Il s'agit maintenant de retrouver les paramètres d'un GCL (valeurs de $a$, $b$ et éventuellement $m$) à partir de la suite de nombres générée et de la connaissance, ou non de la valeur du modulo $m$. \n",
    "\n",
    "Soit $x_1, ..., x_N$ les entiers générés à partir de la graine $x_0$ et la relation de récurrence $x_n = ax_{n-1} + b$ mod $m$.<br>\n",
    "Posons $y_k = x_{k}-x_{k-1}$ pour $k\\geq 1$."
   ]
  },
  {
   "cell_type": "markdown",
   "metadata": {},
   "source": [
    "### Cas 1 : $m$ connu"
   ]
  },
  {
   "cell_type": "markdown",
   "metadata": {},
   "source": [
    "> **Question 11 :**\n",
    "\n",
    "> Dans le cas où $y_1$ est inversible modulo $m$, montrer : $a = y_2y_1^{-1}$ mod $m$ et $b = x_1 - ax_0$ mod $m$. Pour rappel, $y_1^{-1}$ désigne l'inverse modulaire de $y_1$, c'est à dire le nombre qui multiplié par $y_1$ donne $1$ modulo $m$"
   ]
  },
  {
   "cell_type": "markdown",
   "metadata": {},
   "source": [
    "Réponse : \n",
    "\n",
    "\n",
    "Propriétés : \n",
    "\n",
    "- $ a\\mod m + b \\mod m = (a+b) \\mod m$\n",
    "- $ a\\mod m \\times b \\mod m = (a*b) \\mod m$\n",
    "- $a = b \\mod c \\equiv b = a \\mod c$\n",
    "- $aa^{-1} \\mod m = 1 \\mod m$"
   ]
  },
  {
   "cell_type": "markdown",
   "metadata": {},
   "source": [
    "La fonction `inverseModulaire(mModulo, aNombre)` ci-dessous permet de calculer l'inverse modulaire d'un nombre en utilisant l'algorithme d'Euclide étendu. \n",
    "(source : https://github.com/MichaelCaraccio/Cryptographic-Algorithms/blob/master/Python/RSA_diffiehellman/euclide.py)"
   ]
  },
  {
   "cell_type": "code",
   "execution_count": 22,
   "metadata": {},
   "outputs": [],
   "source": [
    "# Fonctions utiles\n",
    "def inverseModulaire(mModulo, aNombre):\n",
    "    \"\"\" Algorithme d'Euclide étendu pour trouver l'inverse modulaire \n",
    "        Inverse modulaire de a modulo m ---> a * a^-1 mod m = 1 \"\"\"\n",
    "    \n",
    "    modulo = mModulo\n",
    "    \n",
    "    x = 0\n",
    "    y = 1\n",
    "    u = 1\n",
    "    v = 0\n",
    "    \n",
    "    while aNombre != 0:\n",
    "        q = mModulo // aNombre\n",
    "        r = mModulo % aNombre\n",
    "        \n",
    "        m = x - u * q\n",
    "        n = y - v * q\n",
    "        \n",
    "        mModulo = aNombre\n",
    "        aNombre = r\n",
    "        x = u\n",
    "        y = v\n",
    "        u = m\n",
    "        v = n\n",
    "        \n",
    "    return x % modulo if mModulo == 1 else 0\n",
    "    \n",
    "    \n",
    "def pgcd(a, b):\n",
    "    \"\"\"Sortie : pgcd de 2 entiers\"\"\"\n",
    "    while b != 0: \n",
    "        a, b = b, a%b\n",
    "    if a < 0:\n",
    "        a = -a\n",
    "    return a\n",
    "\n",
    "def pgcdn(lst_n):\n",
    "    \"\"\"Sortie : pgcd de n (>=2) entiers\"\"\"\n",
    "    p = pgcd(lst_n[0], lst_n[1])\n",
    "    for x in lst_n[2:]:\n",
    "        p = pgcd(p, x)\n",
    "    return p"
   ]
  },
  {
   "cell_type": "markdown",
   "metadata": {},
   "source": [
    "> **Question 12 :**\n",
    "- En sachant que $m = 1023$, déterminer le GCL ayant généré les entiers 97, 188, 235, 293, 604, 596, 412. Pour cela, écrire une fonction `attaque_GCL_mConnu(x, m)` qui prend en entrée la suite $x$ des valeurs générées par le GCL, et $m$ le modulo connu et donne en sortie les valeurs de $a$ et $b$.\n",
    "- Vérifier le résultat à l'aide de **monGCL_N**$(a, b, m, g, N)$ de la question 5"
   ]
  },
  {
   "cell_type": "code",
   "execution_count": 10,
   "metadata": {},
   "outputs": [
    {
     "ename": "SyntaxError",
     "evalue": "invalid syntax (1154805275.py, line 11)",
     "output_type": "error",
     "traceback": [
      "\u001b[1;36m  Cell \u001b[1;32mIn[10], line 11\u001b[1;36m\u001b[0m\n\u001b[1;33m    m= #a remplir\u001b[0m\n\u001b[1;37m       ^\u001b[0m\n\u001b[1;31mSyntaxError\u001b[0m\u001b[1;31m:\u001b[0m invalid syntax\n"
     ]
    }
   ],
   "source": [
    "# Réponse\n",
    "def attaque_GCL_mConnu(x, m):   \n",
    "    \"\"\" Entrée : liste x de la suite des valeurs générées par le GCL,\n",
    "        et m le modulo connu\n",
    "        Sorties : a et b les coefficients de la fonction (affine) de transition\n",
    "    \"\"\"\n",
    "    \n",
    "    return \"todo\"\n",
    "\n",
    "#Application à faire"
   ]
  },
  {
   "cell_type": "markdown",
   "metadata": {},
   "source": [
    "### Cas 2 : $m$ inconnu"
   ]
  },
  {
   "cell_type": "markdown",
   "metadata": {},
   "source": [
    "> **Question 13 :**\n",
    "- Montrer $y_{k+1} = ay_k$ mod $m$.\n",
    "- Posons $z_k = y_{k+1}y_{k-1}-y_k^2$, déduire de la question précédente que $z_k = 0$ mod $m$"
   ]
  },
  {
   "cell_type": "markdown",
   "metadata": {},
   "source": [
    "Réponse : "
   ]
  },
  {
   "cell_type": "markdown",
   "metadata": {},
   "source": [
    "Tous les $z_k$ sont donc des multiples de $m$, autrement dit $m$ est un diviseur commun de tous les $z_k$ et \"très probablement\" le PGCD de tous les $z_k$"
   ]
  },
  {
   "cell_type": "markdown",
   "metadata": {},
   "source": [
    "> **Question 14 :**\n",
    "- A l'aide de la remarque précédente, déterminer le GCL ayant généré les entiers suivants :\n",
    "<center> 234, 1227, 12158, 2475, 26787, 30101, 12498, 18328, 76, 11400 </center>\n",
    "Pour cela, écrire une méthode `attaque_GCL_mInconnu(x)` qui donne en sortie, les coefficients $a$, $b$ et le modulo $m$ à partir de la séquence $x$ des entiers générés. \n",
    "- Combien d'entiers suffisent pour déterminer ce GCL ?"
   ]
  },
  {
   "cell_type": "code",
   "execution_count": 11,
   "metadata": {},
   "outputs": [],
   "source": [
    "# Réponse\n",
    "\n",
    "\n",
    "def attaque_GCL_mInconnu(x):  \n",
    "    \"\"\" Entrée : liste x de la suite des valeurs générées par le GCL\n",
    "        Sorties : a et b les coefficients de la fonction (affine) de transition et m le modulo\n",
    "        (et nbEntiers : le nombre d'entiers minimum dont on a eu besoin)\n",
    "    \"\"\"\n",
    "  \n",
    "    return \"Todo\"\n",
    "     \n",
    "    \n",
    "    \n",
    "    \n",
    "x = [234, 1227, 12158, 2475, 26787, 30101, 12498, 18328, 76, 11400 ]\n",
    "#x = [476701654, 1778738775, 130368836, 1085367853, 209217378, 1452282099, 123, 234, 345, 456, 567]\n",
    "#x = [476701654, 1778738775, 130368836, 1085367853, 209217378, 1452282099, 259223984, 1592473641, 1845073838, 1578158415]\n",
    "\n",
    "#Application à faire\n",
    "\n"
   ]
  },
  {
   "cell_type": "code",
   "execution_count": null,
   "metadata": {},
   "outputs": [],
   "source": []
  }
 ],
 "metadata": {
  "kernelspec": {
   "display_name": "Python 3",
   "language": "python",
   "name": "python3"
  },
  "language_info": {
   "codemirror_mode": {
    "name": "ipython",
    "version": 3
   },
   "file_extension": ".py",
   "mimetype": "text/x-python",
   "name": "python",
   "nbconvert_exporter": "python",
   "pygments_lexer": "ipython3",
   "version": "3.11.8"
  }
 },
 "nbformat": 4,
 "nbformat_minor": 4
}
