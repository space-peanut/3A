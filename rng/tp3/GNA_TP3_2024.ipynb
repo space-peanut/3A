{
 "cells": [
  {
   "cell_type": "markdown",
   "metadata": {},
   "source": [
    "# <center> Générateurs de nombres aléatoires <br> TP3 - Générateur à signal d'arrêt et générateur de Geffe  </center>\n",
    "<center> 2023/2024 - L. Naert/A.Ridard </center>"
   ]
  },
  {
   "cell_type": "code",
   "execution_count": 92,
   "metadata": {},
   "outputs": [],
   "source": [
    "import numpy.random as npr\n",
    "import numpy as np\n",
    "import itertools as it"
   ]
  },
  {
   "cell_type": "code",
   "execution_count": 93,
   "metadata": {},
   "outputs": [
    {
     "name": "stdout",
     "output_type": "stream",
     "text": [
      "[1, 0, 0, 1, 0, 1, 1, 1, 0, 0]\n"
     ]
    }
   ],
   "source": [
    "# Fonctions utiles du TP2 :\n",
    "def etatSuivant(etat,iCoeff):\n",
    "    bit_suiv = 0\n",
    "    sortie = 0\n",
    "    try:\n",
    "        assert len(iCoeff) == 0 or max(iCoeff) < len(etat)\n",
    "        for i in iCoeff:\n",
    "            bit_suiv = bit_suiv ^ etat[i] #XOR sur les bits concernés\n",
    "        sortie = etat[0]\n",
    "        reg = etat[1:]+[bit_suiv] # on décale le registre\n",
    "        return reg, sortie\n",
    "    except:\n",
    "        print(\"erreur etatSuivant : la taille du registre etat ne correspond pas aux coefficients fournis\")\n",
    "        return [], -1  # Return default values in case of error\n",
    "\n",
    "        \n",
    "def convertToList(suiteCaractere):\n",
    "    return [int(i) for i in list(suiteCaractere)]\n",
    "\n",
    "\n",
    "def suite_LFSR(graine,iCoeff,n):\n",
    "    res = \"\"\n",
    "    etatReg = graine\n",
    "    for i in range(n) :\n",
    "        etatReg, sortie = etatSuivant(etatReg,iCoeff)\n",
    "        res = res + str(sortie)\n",
    "    return convertToList(res)\n",
    "\n",
    "\n",
    "print(suite_LFSR([1,0,0,1,0,1],[0,3,5], 10))"
   ]
  },
  {
   "cell_type": "markdown",
   "metadata": {},
   "source": [
    "## Exercice 1 : le générateur à signal d'arrêt "
   ]
  },
  {
   "cell_type": "markdown",
   "metadata": {},
   "source": [
    "Le générateur à signal d'arrêt est un exemple de registre à décalage irrégulier (1984). Il utilise la sortie d'un premier LFSR $R_1$ pour contrôler l'horloge d'un second LFSR $R_2$. Plus précisément, $R_2$ ne change d'état à l'instant $t$ que si la sortie de $R_1$ est égale à 1 à l'instant $t-1$. Si la sortie de $R_1$ est égale à 0 à l'instant $t-1$, alors $R_2$ n'est pas décalé et le bit de sortie à l'instant $t$ est identique au bit de sortie à l'instant $t-1$.\n",
    "\n",
    "<img src=\"GSA_TP3.png\" width=\"600\">"
   ]
  },
  {
   "cell_type": "markdown",
   "metadata": {},
   "source": [
    "> **Question 0 (à la main) :**\n",
    "\n",
    "> En supposant que $R_1$ et $R_2$ produisent des séquences uniformément distribuées, calculer la probabilité que deux bits consécutifs produits par le générateur à signal d'arrêt soient égaux."
   ]
  },
  {
   "cell_type": "markdown",
   "metadata": {},
   "source": [
    "**Réponse :**\n"
   ]
  },
  {
   "cell_type": "markdown",
   "metadata": {},
   "source": [
    "> **Question 1 :**\n",
    "\n",
    "1. Définir une fonction `generateurSignalArret(g1, g2, iCoeff1, iCoeff2, n)` permettant de simuler un tel générateur. `g1` et `g2` sont les graines des deux registres. `iCoeff1` et `iCoeff2` sont les coefficients de la fonction de rétroaction (cf. TP2).\n",
    "2. Définir une fonction, `freqDeuxBitsConsecutifsEgaux(sequence)` qui calcule la fréquence de deux bits consécutifs égaux.\n",
    "3. Tester vos fonctions : retrouvez-vous le résultat théorique ?"
   ]
  },
  {
   "cell_type": "code",
   "execution_count": 94,
   "metadata": {},
   "outputs": [
    {
     "name": "stdout",
     "output_type": "stream",
     "text": [
      "[1, 0, 0, 1, 1, 0, 1, 1, 1, 1, 0, 0, 0, 0, 1, 0, 0, 1, 1, 1]\n",
      "generateurSignalArret : OK\n"
     ]
    }
   ],
   "source": [
    "# 1\n",
    "def generateurSignalArret(g1, g2, iCoeff1, iCoeff2, n) :\n",
    "    etatLfsr2 = g2.copy()\n",
    "    sortie=etatLfsr2[0]\n",
    "    s = []\n",
    "    lfsr1=suite_LFSR(g1, iCoeff1, n)\n",
    "    for i in lfsr1 :\n",
    "        if i==1 : \n",
    "            etatLfsr2, sortie = etatSuivant(etatLfsr2, iCoeff2)\n",
    "            s.append(sortie)\n",
    "        else :\n",
    "            s.append(etatLfsr2[0])\n",
    "    return s\n",
    "\n",
    "try:\n",
    "    g1 = [1,0,1,0,1,1,0,0]\n",
    "    g2 = [1,0,1,0,1,0,1,0]\n",
    "    n = 20\n",
    "    iCoeff1 = [0, 3, 5]\n",
    "    iCoeff2 = [0, 2, 5, 6]\n",
    "    s = generateurSignalArret(g1, g2, iCoeff1,iCoeff2, n)\n",
    "    print(s)\n",
    "    assert s == [1, 0, 0, 1, 1, 0, 1, 1, 1, 1, 0, 0, 0, 0, 1, 0, 0, 1, 1, 1]\n",
    "    print(\"generateurSignalArret : OK\")\n",
    "except:\n",
    "    print(\"generateurSignalArret : ERREUR\")\n"
   ]
  },
  {
   "cell_type": "code",
   "execution_count": 95,
   "metadata": {},
   "outputs": [
    {
     "name": "stdout",
     "output_type": "stream",
     "text": [
      "freqDeuxBitsConsecutifsEgaux : OK\n"
     ]
    }
   ],
   "source": [
    "# 2\n",
    "def freqDeuxBitsConsecutifsEgaux(sequence) : \n",
    "    f=0\n",
    "    for i in range(len(sequence)-1) :\n",
    "        if sequence[i]==sequence[i+1] :\n",
    "            f+=1\n",
    "    return f/(len(sequence)-1)\n",
    "\n",
    "try:\n",
    "    s = [1, 0, 0, 1, 1, 0, 1, 1, 1, 1, 0, 0, 0, 0, 1, 0, 0, 1, 1, 1]\n",
    "    assert round(freqDeuxBitsConsecutifsEgaux(s),2) == 0.58 #ou 0.55\n",
    "    print(\"freqDeuxBitsConsecutifsEgaux : OK\")\n",
    "except:\n",
    "    print(\"freqDeuxBitsConsecutifsEgaux : ERREUR\")\n"
   ]
  },
  {
   "cell_type": "code",
   "execution_count": 96,
   "metadata": {},
   "outputs": [
    {
     "name": "stdout",
     "output_type": "stream",
     "text": [
      "0.7526315789473688\n"
     ]
    }
   ],
   "source": [
    "# 3\n",
    "f=0\n",
    "for r in range(500):\n",
    "    g1 = list(npr.binomial(1, 1/2, 8)) #graine composée de huit 0 et 1 uniformément distribués \n",
    "    g2 = list(npr.binomial(1, 1/2, 8))\n",
    "    f+=freqDeuxBitsConsecutifsEgaux(generateurSignalArret(g1, g2, iCoeff1, iCoeff2, 20))\n",
    "print(f/500)\n",
    "\n"
   ]
  },
  {
   "cell_type": "markdown",
   "metadata": {},
   "source": [
    "*Remarque : si la fréquence n'est pas proche de 0.75, c'est que la période du générateur utilisé n'est pas assez grande pour approcher correctement la proba !*"
   ]
  },
  {
   "cell_type": "markdown",
   "metadata": {},
   "source": [
    "> **Question 2 :**\n",
    "\n",
    "> Vous avez intercepté le chiffré suivant :\n",
    "<br>\n",
    "$c = 1001\\ 1000\\ 1001\\ 1100\\ 0100\\ 0001\\ 0111\\ 0000\\ 0110\\ 0100\\ 1000\\ 0001\\ 1001\\ 0110$\n",
    "<br>\n",
    "Vous savez qu'il s'agit du chiffrement de l'un des trois textes suivants à l'aide d'un __générateur à signal d'arrêt__ :\n",
    "<br>\n",
    "$m_1$ = \"heyheyy\",    \n",
    "$m_2$ = \"bonjour\", \n",
    "$m_3$ = \"hellllo\" \n",
    "<br>\n",
    "A l'aide des fonctions données ci-dessous, donner le texte clair qui a été le plus probablement chiffré."
   ]
  },
  {
   "cell_type": "code",
   "execution_count": 97,
   "metadata": {},
   "outputs": [],
   "source": [
    "\n",
    "def xor_lst(l1, l2) :\n",
    "    \"\"\"\n",
    "    Cette fonction retourne le xor bit à bit entre deux listes binaires\n",
    "    \"\"\"\n",
    "    res = []\n",
    "    for x, y in zip(l1, l2) :\n",
    "        res.append(x^y)\n",
    "    return(res)\n",
    "\n",
    "def chaineToListe(ch) :\n",
    "    \"\"\"\n",
    "    Cette fonction transforme une chaine binaire (ex :\"101\") en une liste binaire (ex : [1,0,1])\n",
    "    \"\"\"\n",
    "    return([int(x) for x in ch])\n",
    "\n",
    "def listeToChaine(lst) :\n",
    "    \"\"\"\n",
    "    Cette fonction transforme une liste binaire (ex : [1,0,1]) en une chaine binaire (ex :\"101\")\n",
    "    \"\"\"\n",
    "    res = \"\"\n",
    "    for i in range(len(lst)):\n",
    "        res = res + str(lst[i])\n",
    "    return res\n",
    "\n",
    "def stringToBinary(msg):\n",
    "    \"\"\"\n",
    "    Cette fonction transforme une chaine de caractere (ex : \"ab\") en une chaine binaire (ex :\"0110000101100010\")\n",
    "    \"\"\"\n",
    "    msg_bin = \"\"\n",
    "    for i in bytearray(msg, encoding ='ascii') :\n",
    "        msg_bin = msg_bin + format(i, '08b')\n",
    "    return msg_bin\n",
    "\n",
    "def binaryToString(binary):\n",
    "    \"\"\"\n",
    "    Cette fonction transforme une chaine binaire (ex : \"0110000101100010\") en une chaine de caractere (ex :\"ab\")\n",
    "    \"\"\"\n",
    "    msg = \"\"\n",
    "    for i in range(0, len(binary), 8):\n",
    "        byte_int = int(binary[i:i+8], 2)\n",
    "        byte_char = chr(byte_int)\n",
    "        msg = msg + byte_char\n",
    "        \n",
    "    return msg"
   ]
  },
  {
   "cell_type": "code",
   "execution_count": 98,
   "metadata": {},
   "outputs": [
    {
     "name": "stdout",
     "output_type": "stream",
     "text": [
      "frequence heyheyy :  0.7454545454545455\n",
      "frequence bonjour :  0.5454545454545454\n",
      "frequence hello :  0.6\n"
     ]
    }
   ],
   "source": [
    "#todo\n",
    "c=chaineToListe(\"10011000100111000100000101110000011001001000000110010110\")\n",
    "heyheyy=chaineToListe(stringToBinary(\"heyheyy\"))\n",
    "bonjour=chaineToListe(stringToBinary(\"bonjour\"))\n",
    "hello=chaineToListe(stringToBinary(\"hellllo\"))\n",
    "\n",
    "heyheyy=xor_lst(heyheyy,c)\n",
    "bonjour=xor_lst(bonjour,c)\n",
    "hello=xor_lst(hello,c)\n",
    "\n",
    "heyheyy=freqDeuxBitsConsecutifsEgaux(heyheyy)\n",
    "bonjour=freqDeuxBitsConsecutifsEgaux(bonjour)\n",
    "hello=freqDeuxBitsConsecutifsEgaux(hello)\n",
    "\n",
    "print(\"frequence heyheyy : \",heyheyy)\n",
    "print(\"frequence bonjour : \",bonjour)\n",
    "print(\"frequence hello : \",hello)\n"
   ]
  },
  {
   "cell_type": "markdown",
   "metadata": {},
   "source": [
    "heyheyy a la frequence la plus proche de 0.75, donc le clair est heyheyy"
   ]
  },
  {
   "cell_type": "markdown",
   "metadata": {},
   "source": [
    "__Astuce__ : La suite chiffrante générée par le générateur à signal d'arret sert de clef pour chiffrer le message clair (par un xor bit à bit). Commencer par calculer les 3 suites chiffrantes candidates. L'une des trois a plus probablement été générée par un générateur à signal d'arret. Laquelle ? "
   ]
  },
  {
   "cell_type": "markdown",
   "metadata": {},
   "source": [
    "## Exercice 2 : le générateur de Geffe "
   ]
  },
  {
   "cell_type": "markdown",
   "metadata": {},
   "source": [
    "Le générateur de Geffe est un exemple de registres combinés (1973). Il est compoé de trois LFSR de longueurs distinctes combinés par la fonction :\n",
    "<br>\n",
    "$F(x_1,x_2,x_3) = x_1x_2 \\oplus x_2x_3 \\oplus x_3$\n",
    "<br>\n",
    "\n",
    "<img src=\"Geffe_TP3.png\" width=\"700\">\n",
    "\n",
    "En 1985, T. Siegenthaler a proposé une méthode de cryptanalyse sur les systèmes de chiffrement par flot par registres combinés appelé *attaque par corrélation*. L'idée de cette méthode est d'exploiter l'existence d'une éventuelle corrélation entre la suite chiffrante et le contenu de certains registres. Un attaquant peut alors chercher séparément les valeurs initiales de chaque registre et retrouver la clé plus rapidement qu'en effectuant une recherche exhaustive. Le but de l'exercice est de montrer que le générateur de Geffe est vulnérable à une telle attaque."
   ]
  },
  {
   "cell_type": "markdown",
   "metadata": {},
   "source": [
    "> **Question 1 (à la main) :**\n",
    "\n",
    "> En supposant que les valeurs $x_i(t)$ suivent des lois de Bernoulli indépendantes de paramètre $\\frac{1}{2}$, montrer que :\n",
    "<br>\n",
    "$P\\big(y(t) = x_1(t)\\big) = \\frac{3}{4} = P\\big(y(t) = x_3(t)\\big)$\n",
    "<br>\n",
    "\n",
    "> Pour cela, commencer par montrer que \n",
    "<br>\n",
    "$y(t) = x_3(t)$ si $ x_2(t) = 0$\n",
    "<br>\n",
    "<br>\n",
    "$y(t) = x_1(t)$ si $ x_2(t) = 1$ \n",
    "<br>"
   ]
  },
  {
   "cell_type": "markdown",
   "metadata": {},
   "source": [
    "**Réponse :**\n",
    "\n",
    "Pour $x_2 = 0$: <br>\n",
    "$y(t) = x_1 \\times 0 \\oplus 0 \\times x_3 \\oplus x_3$, donc: <br>\n",
    "$y(t) = 0 \\oplus 0 \\oplus x_3 = x_3$\n",
    "\n",
    "Pour $x_2 = 1$: <br>\n",
    "$y(t) = x_1 \\times 1 \\oplus 1 \\times x_3 \\oplus x_3$, donc: <br>\n",
    "$y(t) = x_1 \\oplus x_3 \\oplus x_3$ or $x_3 \\oplus x_3 =0$ donc $y(t) = x_1$\n",
    "\n",
    "$P(sortie=x_1)=0.5$ (de meme pour $x_3$). De plus, $P(x_1 == x_3) = \\frac{1}{2}$ <br>\n",
    "Donc $P(y(t) = x_1) = P(y(t) = x_1 |x_2=0) \\times P(x_2=0) + P(y(t) = x_1 |x_2=1) \\times P(x_2=1)$: <br>\n",
    "$P(y(t) = x_1) = \\frac{1}{2} \\times \\frac{1}{2} + 1 \\times \\frac{1}{2} = \\frac{3}{4}$"
   ]
  },
  {
   "cell_type": "markdown",
   "metadata": {},
   "source": [
    "> **Question 2 :**\n",
    "\n",
    "1. Définir une fonction `generateurGeffe(g1, g2, g3, iCoeff1, iCoeff2, iCoeff3, n)` permettant de simuler un tel générateur. La fonction doit retourner les sorties des trois LFSR (afin de faciliter le calcul des fréquences) ainsi que la sortie du générateur complet.\n",
    "2. Calculer les deux fréquences correspondant aux probabilités de la question précédente dans le cas du générateur dessiné ci-dessus avec des graines aléatoires. Retrouvez-vous les résultats théoriques ?"
   ]
  },
  {
   "cell_type": "code",
   "execution_count": 99,
   "metadata": {},
   "outputs": [
    {
     "name": "stdout",
     "output_type": "stream",
     "text": [
      "generateurGeffe : OK\n"
     ]
    }
   ],
   "source": [
    "# 1\n",
    "\n",
    "def generateurGeffe(g1, g2, g3, iCoeff1, iCoeff2, iCoeff3, n) :\n",
    "    \"\"\"\n",
    "    Cette fonction retourne la liste des n bits générés à partir des graines g1, g2 et g3\n",
    "    \"\"\"\n",
    "    x1=suite_LFSR(g1, iCoeff1, n)\n",
    "    x2=suite_LFSR(g2, iCoeff2, n)\n",
    "    x3=suite_LFSR(g3, iCoeff3, n)\n",
    "    y = []\n",
    "    for i in range(n) :\n",
    "        y.append(x1[i]&x2[i]^x2[i]&x3[i]^x3[i])\n",
    "    return(x1, x2, x3, y)\n",
    "\n",
    "\n",
    "\n",
    "try:\n",
    "    iCoeff1 = [0,1]\n",
    "    iCoeff2 = [1,2]\n",
    "    iCoeff3 = [0,2]\n",
    "    g1 = [1,1]\n",
    "    g2 = [1,0,1]\n",
    "    g3 = [1,0,0,1]\n",
    "    n=5\n",
    "    s = generateurGeffe(g1, g2, g3, iCoeff1, iCoeff2, iCoeff3, n)\n",
    "    assert s == ([1, 1, 0, 1, 1], [1, 0, 1, 1, 0], [1, 0, 0, 1, 1], [1, 0, 0, 1, 1])\n",
    "    print(\"generateurGeffe : OK\")\n",
    "except:\n",
    "    print(\"generateurGeffe : ERREUR\")\n"
   ]
  },
  {
   "cell_type": "code",
   "execution_count": 100,
   "metadata": {},
   "outputs": [
    {
     "name": "stdout",
     "output_type": "stream",
     "text": [
      "freq x1/y :  0.7469000000000007\n",
      "freq x3/y :  0.7469000000000007\n"
     ]
    }
   ],
   "source": [
    "# 2\n",
    "def compare(list,list2) :\n",
    "    f=0\n",
    "    for i in range(len(list)):\n",
    "        if list[i] == list2[i]:\n",
    "            f+=1     \n",
    "    return f/len(list)\n",
    "\n",
    "\n",
    "\n",
    "f1,f2,f3=0,0,0\n",
    "iCoeff1 = [0,2,13,17]\n",
    "iCoeff2 = [8,16,20]\n",
    "iCoeff3 = [5,7,13,16]\n",
    "for i in range(500):\n",
    "    g1 = list(npr.binomial(1, 1/2, 19)) #graine composée de huit 0 et 1 uniformément distribués \n",
    "    g2 = list(npr.binomial(1, 1/2, 22))\n",
    "    g3 = list(npr.binomial(1, 1/2, 17))\n",
    "    x1, x2, x3, y = generateurGeffe(g1, g2, g3, iCoeff1, iCoeff2, iCoeff3, 20)\n",
    "    f1+=compare(x1, y)\n",
    "    f3+=compare(x1, y)\n",
    "\n",
    "print(\"freq x1/y : \", f1/500)\n",
    "print(\"freq x3/y : \", f3/500)"
   ]
  },
  {
   "cell_type": "markdown",
   "metadata": {},
   "source": [
    "les frequences sont proche de 0.75, la valeur theorique"
   ]
  },
  {
   "cell_type": "markdown",
   "metadata": {},
   "source": [
    "> **Question 3 :**\n",
    "\n",
    "En supposant connue la sortie du générateur, le nombre et la taille des LFSR ainsi que leur polynôme de rétroaction, proposer une attaque *par corrélation* pour déterminer la clé c'est à dire la graine ou encore les états initiaux de $R_1$, $R_2$ et $R_3$. __Les coefficients de rétroaction sont supposés connus.__\n",
    "\n",
    "En cryptographie, le système de chiffrement est souvent public. La sécurité du système provient de la difficulté à retrouver la clef (ici la graine des registres).\n",
    "\n",
    "_Attaque par corrélation :_ Cette attaque se base sur la connaissance du système de chiffrement et donc des deux probabilités calculées précédement. \n",
    "L’attaque consiste à déterminer par force brute (de manière exhaustive) le contenu initial du registre $R_1$ puis celui de $R_3$. \n",
    "\n",
    "Pour tous les contenus initiaux possibles de $R_1$, l’attaquant génère une suite de longueur $n$ pour ce registre. S'il s'agit du contenu initial recherché, le nombre de valeurs communes entre cette sortie de $R_1$ et celle du générateur de Geffe sera proche de $3n/4$. Une fois l’état initial de $R_1$ trouvé, l’attaquant peut répéter l’attaque pour obtenir celui de $R_3$.\n",
    "\n",
    "Il ne reste plus qu'à déterminer le contenu initial de $R_2$ par force brute (en testant toutes les possibilités) en fonction des deux autres graines.\n",
    "\n",
    "1. Définir une fonction `attaqueCorrelation(y, iCoeff, l)` qui prend en paramètre la suite chiffrante `y` générée par le générateur de Geffe, la liste `iCoeff` des coefficients de rétroaction du LFSR attaqué (i.e. $R_1$ ou $R_3$ ici) et la longueur `l` du registre attaqué et qui renvoie la graine la plus probable du LFSR. \n",
    "2. Définir une fonction `attaqueBruteForceR2(y, g1,g3, iCoeff1, iCoeff2, iCoeff3, l1, l2, l3)` qui cherche la graine de $R_2$ par force brute.\n",
    "3. Tester votre attaque sur des exemples en vérifiant bien que les graines qui ont servies à générer la suite chiffrante sont les mêmes que celles que vous avez trouvé avec votre attaque."
   ]
  },
  {
   "cell_type": "code",
   "execution_count": 135,
   "metadata": {},
   "outputs": [],
   "source": [
    "def attaqueCorrelation(y, iCoeff, l):    \n",
    "    gs=[[int(bit) for bit in bin(_)[2:].zfill(l)] for _ in range((l**2) -1)]\n",
    "    compareXs=[]\n",
    "    for g in gs:\n",
    "        x=suite_LFSR(g, iCoeff, len(y))\n",
    "        compareXs.append(abs(compare(x, y)-0.75))\n",
    "    return gs[compareXs.index(min(compareXs))]\n",
    "    \n",
    "\n",
    "\n",
    "def attaqueBruteForceR2(y, g1,g3, iCoeff1, iCoeff2, iCoeff3, l1, l2, l3):  \n",
    "    g1,g3= attaqueCorrelation(y, iCoeff1, l1), attaqueCorrelation(y, iCoeff3, l3)\n",
    "    gs=[[int(bit) for bit in bin(_)[2:].zfill(l2)] for _ in range((l2**2) -1)]\n",
    "    for g in gs:\n",
    "        if y==generateurGeffe(g1, g, g3, iCoeff1, iCoeff2, iCoeff3, len(y))[3]:\n",
    "            return g\n"
   ]
  },
  {
   "cell_type": "code",
   "execution_count": 136,
   "metadata": {},
   "outputs": [
    {
     "name": "stdout",
     "output_type": "stream",
     "text": [
      "[1, 0, 1, 0, 0, 0, 1]\n",
      "[1, 0, 0, 0] [0, 0, 1, 0, 0, 0]\n",
      "None\n"
     ]
    }
   ],
   "source": [
    "iCoeff1 = [0,2]\n",
    "iCoeff2 = [2,3,4]\n",
    "iCoeff3 = [0,1,5]\n",
    "\n",
    "y = list(npr.binomial(1, 1/2, 7)) \n",
    "l1,l2,l3 = 4,5,6 \n",
    "g1 = attaqueCorrelation(y,iCoeff1,l1)\n",
    "g3 = attaqueCorrelation(y,iCoeff3,l3)\n",
    "\n",
    "print(y)\n",
    "print(g1,g3)\n",
    "\n",
    "g2 = attaqueBruteForceR2(y,g1,g3,iCoeff1,iCoeff2,iCoeff3,l1,l2,l3)\n",
    "print(g2)"
   ]
  },
  {
   "cell_type": "markdown",
   "metadata": {},
   "source": [
    "__Astuce pour `attaqueCorrelation`__ : \n",
    "On commence par creer la liste de toutes les graines possibles. Pour chaque graine à tester, on génére la suite chiffrante $x_1$ (ou $x_3$) de longueur $len(y)$. On compare cette suite à y. L'une des graines produira une suite plus pertinente que les autres..."
   ]
  },
  {
   "cell_type": "markdown",
   "metadata": {},
   "source": [
    "Remarques :\n",
    ">*Une attaque par force brute serait en $O\\big(2^{l_1+l_2+l_3}\\big)$* où $l_i$ désigne la longueur de $R_i$.<br>\n",
    ">*L'attaque par corrélation demandée est en $O\\big(2^{l_1}+2^{l_3}+2^{l_2}\\big)$ voire en $O\\big(2^{l_1}+2^{l_3}+l_2^3\\big)$.*\n",
    "\n",
    ">*D'autres attaques sont connues : *\n",
    ">   - *l'attaque \"deviner et déterminer\" en $O\\big(2^{l_2}\\left(l_1^3+l_3^3\\right)\\big)$*\n",
    ">   - *l'attaque algébrique en $O\\big(\\left(l_1+l_2+l_3\\right)^6\\big)$*"
   ]
  },
  {
   "cell_type": "code",
   "execution_count": null,
   "metadata": {},
   "outputs": [],
   "source": []
  }
 ],
 "metadata": {
  "kernelspec": {
   "display_name": "Python 3 (ipykernel)",
   "language": "python",
   "name": "python3"
  },
  "language_info": {
   "codemirror_mode": {
    "name": "ipython",
    "version": 3
   },
   "file_extension": ".py",
   "mimetype": "text/x-python",
   "name": "python",
   "nbconvert_exporter": "python",
   "pygments_lexer": "ipython3",
   "version": "3.12.3"
  }
 },
 "nbformat": 4,
 "nbformat_minor": 4
}
